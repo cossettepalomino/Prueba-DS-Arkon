{
 "cells": [
  {
   "cell_type": "markdown",
   "id": "f2618fe5",
   "metadata": {},
   "source": [
    "# Analisis de comportamiento de uso de bicicletas compartido en la ciudad de los Ángeles.\n",
    "\n",
    "##  Introducción al análisis exploratorio de datos\n",
    "La ciudad de los Ángeles cuenta con un servicio de  bicicletas compartidas, donde los posibles clientes pueden recoger bicicletas en estaciones designadas y dejarlas en la misma estación o en una estación diferente. También hay diferentes tipos de pases disponibles para satisfacer las necesidades de los distintos tipos de clientes.\n",
    "\n",
    "Como empresa líder en el servicio de compartimiento de bicicletas, se tiene como meta contar con la disponibilidad más alta de servicio en el mercado. \n",
    "Debido a una constante saturación del servicio se pueden estar perdiendo clientes, por falta de disponibilidad, y con la intuición de que la tendencia de uso va a la alza, la empresa debe estar preparada para ajustar el número de bicicletas según la demanda para seguir manteniendo el liderazgo en el mercado.\n",
    "\n",
    "__La finalidad del siguiente análisis es:__\n",
    "- Entender el comportamiento de uso de los usuarios por estaciones y horarios, dependiendo el plan de pago al que están sujetos.\n",
    "- Confirmar que la tendencia en el uso compartido de bicicletas entre estaciones va en incremento.\n",
    "\n",
    "__Esto ayudará a :__\n",
    "\n",
    "- Identificar donde se deben instalar más bicicletas\n",
    "- Confirmar que los planes anuales crezerán en mayor proporción.\n",
    "\n",
    "\n"
   ]
  },
  {
   "cell_type": "markdown",
   "id": "4e8c494f",
   "metadata": {},
   "source": [
    "## Diccionario de datos\n",
    "__características__\n",
    "- trip_id: identificador único para el viaje\n",
    "- duration: duración del viaje en minutos\n",
    "- start_time: dia/hora donde en viaje inicia en formato ISO 8601 tiempo local\n",
    "- end_time: dia/hora donde el viaje termina en formato ISO 8601 tiempo local\n",
    "- start_station: la estación donde el viaje inició\n",
    "- start_lat: la latitud de la estación donde el viaje se originó\n",
    "- start_lon: la longitud de la estación donde el viaje se originó\n",
    "- end_station: la estación donde el viaje terminó\n",
    "- end_lat: la latitud de la estación donde terminó el viaje\n",
    "- end_lon: la longitud de la estación donde terminó el viaje\n",
    "- bike_id: un entero único que identifica la bicicleta\n",
    "- trip_route_category: “Round trip” son viajes que empiezan y terminan en la misma estación\n",
    "\n",
    "__objetivo__\n",
    "- plan_duration: número de días que el usuario tendrá el paso. 0 significa un viaje único (Walk-up plan)\n",
    "- passholder_type: El nombre del plan de passholder"
   ]
  },
  {
   "cell_type": "markdown",
   "id": "dc5d3d12",
   "metadata": {},
   "source": [
    "## Set up de datos\n",
    "Se descargan las librerias correspondientes y se guarda el data frame para analizar los datos con los que se va a trabajar y entenderlos"
   ]
  },
  {
   "cell_type": "code",
   "execution_count": 1,
   "id": "bb0d80c3",
   "metadata": {},
   "outputs": [],
   "source": [
    "import pandas as pd\n",
    "import plotly.express as px\n",
    "import numpy as np\n",
    "from scipy import stats as st\n",
    "from sklearn.cluster import KMeans\n",
    "import seaborn as sns\n",
    "import matplotlib.pyplot as plt\n",
    "from sklearn import set_config\n",
    "from sklearn.tree import DecisionTreeClassifier\n",
    "from sklearn.linear_model import LogisticRegression\n",
    "from sklearn.ensemble import RandomForestClassifier\n",
    "from sklearn.metrics import accuracy_score , mean_squared_error,confusion_matrix ,accuracy_score , f1_score, precision_score, recall_score ,roc_auc_score,roc_curve,classification_report\n",
    "from sklearn.model_selection import train_test_split\n",
    "from sklearn.preprocessing import OrdinalEncoder, StandardScaler, LabelEncoder\n",
    "from sklearn.utils import shuffle\n",
    "\n"
   ]
  },
  {
   "cell_type": "markdown",
   "id": "4d0816ec",
   "metadata": {},
   "source": [
    "Se cargan los diferentes df para entrenar al modelo y probarlo con los diferentes datasets."
   ]
  },
  {
   "cell_type": "code",
   "execution_count": 2,
   "id": "cd4bc578",
   "metadata": {},
   "outputs": [],
   "source": [
    "df_train = pd.read_csv('Desktop/Prueba_DS_Arkon/train_set.csv',low_memory=False)\n",
    "df_test = pd.read_csv('Desktop/Prueba_DS_Arkon/test_set.csv',low_memory=False)\n"
   ]
  },
  {
   "cell_type": "markdown",
   "id": "6c6ea80b",
   "metadata": {},
   "source": [
    "Se analiza el df de prueba junto con sus caracteristicas y estadisticas para tener una imagen de los datos.\n",
    "1. Se despliega un sample de todo el df para ver que datos tiene y como lucen\n",
    "2. Se despliega la cantidad de columnas con sus nombres, tipo de dato y si tienen valores nulos.\n",
    "3. Se despliega indicadores estadisticos de las caracteristicas numéricas, para ver si a primer vista se pueden ver outliers y entender un poco mas los datos."
   ]
  },
  {
   "cell_type": "code",
   "execution_count": 3,
   "id": "f8dab04f",
   "metadata": {},
   "outputs": [
    {
     "data": {
      "text/html": [
       "<div>\n",
       "<style scoped>\n",
       "    .dataframe tbody tr th:only-of-type {\n",
       "        vertical-align: middle;\n",
       "    }\n",
       "\n",
       "    .dataframe tbody tr th {\n",
       "        vertical-align: top;\n",
       "    }\n",
       "\n",
       "    .dataframe thead th {\n",
       "        text-align: right;\n",
       "    }\n",
       "</style>\n",
       "<table border=\"1\" class=\"dataframe\">\n",
       "  <thead>\n",
       "    <tr style=\"text-align: right;\">\n",
       "      <th></th>\n",
       "      <th>trip_id</th>\n",
       "      <th>duration</th>\n",
       "      <th>start_time</th>\n",
       "      <th>end_time</th>\n",
       "      <th>start_lat</th>\n",
       "      <th>start_lon</th>\n",
       "      <th>end_lat</th>\n",
       "      <th>end_lon</th>\n",
       "      <th>bike_id</th>\n",
       "      <th>plan_duration</th>\n",
       "      <th>trip_route_category</th>\n",
       "      <th>passholder_type</th>\n",
       "      <th>start_station</th>\n",
       "      <th>end_station</th>\n",
       "    </tr>\n",
       "  </thead>\n",
       "  <tbody>\n",
       "    <tr>\n",
       "      <th>0</th>\n",
       "      <td>101750280</td>\n",
       "      <td>35</td>\n",
       "      <td>2018-08-07 11:20:00</td>\n",
       "      <td>2018-08-07 11:55:00</td>\n",
       "      <td>33.748920</td>\n",
       "      <td>-118.275192</td>\n",
       "      <td>33.748920</td>\n",
       "      <td>-118.275192</td>\n",
       "      <td>06530</td>\n",
       "      <td>1.0</td>\n",
       "      <td>Round Trip</td>\n",
       "      <td>Walk-up</td>\n",
       "      <td>4127</td>\n",
       "      <td>4127</td>\n",
       "    </tr>\n",
       "    <tr>\n",
       "      <th>1</th>\n",
       "      <td>46560345</td>\n",
       "      <td>32</td>\n",
       "      <td>9/17/2017 17:51</td>\n",
       "      <td>9/17/2017 18:23</td>\n",
       "      <td>34.035679</td>\n",
       "      <td>-118.270813</td>\n",
       "      <td>34.047749</td>\n",
       "      <td>-118.243172</td>\n",
       "      <td>6683</td>\n",
       "      <td>0.0</td>\n",
       "      <td>One Way</td>\n",
       "      <td>Walk-up</td>\n",
       "      <td>3057</td>\n",
       "      <td>3062</td>\n",
       "    </tr>\n",
       "    <tr>\n",
       "      <th>2</th>\n",
       "      <td>120016336</td>\n",
       "      <td>6</td>\n",
       "      <td>2019-04-22 09:22:00</td>\n",
       "      <td>2019-04-22 09:28:00</td>\n",
       "      <td>34.046070</td>\n",
       "      <td>-118.233093</td>\n",
       "      <td>34.047749</td>\n",
       "      <td>-118.243172</td>\n",
       "      <td>06710</td>\n",
       "      <td>30.0</td>\n",
       "      <td>One Way</td>\n",
       "      <td>Monthly Pass</td>\n",
       "      <td>3022</td>\n",
       "      <td>3062</td>\n",
       "    </tr>\n",
       "    <tr>\n",
       "      <th>3</th>\n",
       "      <td>129547190</td>\n",
       "      <td>138</td>\n",
       "      <td>9/22/2019 11:27</td>\n",
       "      <td>9/22/2019 13:45</td>\n",
       "      <td>34.062580</td>\n",
       "      <td>-118.290092</td>\n",
       "      <td>34.059689</td>\n",
       "      <td>-118.294662</td>\n",
       "      <td>17068</td>\n",
       "      <td>1.0</td>\n",
       "      <td>One Way</td>\n",
       "      <td>One Day Pass</td>\n",
       "      <td>4304</td>\n",
       "      <td>4311</td>\n",
       "    </tr>\n",
       "    <tr>\n",
       "      <th>4</th>\n",
       "      <td>136619463</td>\n",
       "      <td>14</td>\n",
       "      <td>1/31/2020 17:11</td>\n",
       "      <td>1/31/2020 17:25</td>\n",
       "      <td>34.026291</td>\n",
       "      <td>-118.277687</td>\n",
       "      <td>34.021660</td>\n",
       "      <td>-118.278687</td>\n",
       "      <td>18841</td>\n",
       "      <td>30.0</td>\n",
       "      <td>One Way</td>\n",
       "      <td>Monthly Pass</td>\n",
       "      <td>4266</td>\n",
       "      <td>4443</td>\n",
       "    </tr>\n",
       "  </tbody>\n",
       "</table>\n",
       "</div>"
      ],
      "text/plain": [
       "     trip_id  duration           start_time             end_time  start_lat  \\\n",
       "0  101750280        35  2018-08-07 11:20:00  2018-08-07 11:55:00  33.748920   \n",
       "1   46560345        32      9/17/2017 17:51      9/17/2017 18:23  34.035679   \n",
       "2  120016336         6  2019-04-22 09:22:00  2019-04-22 09:28:00  34.046070   \n",
       "3  129547190       138      9/22/2019 11:27      9/22/2019 13:45  34.062580   \n",
       "4  136619463        14      1/31/2020 17:11      1/31/2020 17:25  34.026291   \n",
       "\n",
       "    start_lon    end_lat     end_lon bike_id  plan_duration  \\\n",
       "0 -118.275192  33.748920 -118.275192   06530            1.0   \n",
       "1 -118.270813  34.047749 -118.243172    6683            0.0   \n",
       "2 -118.233093  34.047749 -118.243172   06710           30.0   \n",
       "3 -118.290092  34.059689 -118.294662   17068            1.0   \n",
       "4 -118.277687  34.021660 -118.278687   18841           30.0   \n",
       "\n",
       "  trip_route_category passholder_type  start_station  end_station  \n",
       "0          Round Trip         Walk-up           4127         4127  \n",
       "1             One Way         Walk-up           3057         3062  \n",
       "2             One Way    Monthly Pass           3022         3062  \n",
       "3             One Way    One Day Pass           4304         4311  \n",
       "4             One Way    Monthly Pass           4266         4443  "
      ]
     },
     "metadata": {},
     "output_type": "display_data"
    },
    {
     "name": "stdout",
     "output_type": "stream",
     "text": [
      "<class 'pandas.core.frame.DataFrame'>\n",
      "RangeIndex: 700000 entries, 0 to 699999\n",
      "Data columns (total 14 columns):\n",
      " #   Column               Non-Null Count   Dtype  \n",
      "---  ------               --------------   -----  \n",
      " 0   trip_id              700000 non-null  int64  \n",
      " 1   duration             700000 non-null  int64  \n",
      " 2   start_time           700000 non-null  object \n",
      " 3   end_time             700000 non-null  object \n",
      " 4   start_lat            694437 non-null  float64\n",
      " 5   start_lon            694437 non-null  float64\n",
      " 6   end_lat              681426 non-null  float64\n",
      " 7   end_lon              681426 non-null  float64\n",
      " 8   bike_id              700000 non-null  object \n",
      " 9   plan_duration        699792 non-null  float64\n",
      " 10  trip_route_category  700000 non-null  object \n",
      " 11  passholder_type      697424 non-null  object \n",
      " 12  start_station        700000 non-null  int64  \n",
      " 13  end_station          700000 non-null  int64  \n",
      "dtypes: float64(5), int64(4), object(5)\n",
      "memory usage: 74.8+ MB\n"
     ]
    },
    {
     "data": {
      "text/plain": [
       "None"
      ]
     },
     "metadata": {},
     "output_type": "display_data"
    },
    {
     "name": "stdout",
     "output_type": "stream",
     "text": [
      "            trip_id       duration      start_lat      start_lon  \\\n",
      "count  7.000000e+05  700000.000000  694437.000000  694437.000000   \n",
      "mean   1.069468e+08      37.084979      34.044952    -118.253849   \n",
      "std    4.497342e+07     125.302510       0.325255       2.332640   \n",
      "min    8.369648e+06       1.000000      33.710979    -118.495422   \n",
      "25%    7.538051e+07       7.000000      34.037460    -118.280952   \n",
      "50%    1.179410e+08      13.000000      34.046612    -118.256980   \n",
      "75%    1.404178e+08      26.000000      34.051941    -118.247162   \n",
      "max    1.794831e+08    1440.000000      55.705528     118.238258   \n",
      "\n",
      "             end_lat        end_lon  plan_duration  start_station  \\\n",
      "count  681426.000000  681426.000000  699792.000000  700000.000000   \n",
      "mean       34.044175    -118.259183      44.928697    3499.720464   \n",
      "std         0.299721       2.129781      92.816296     615.918795   \n",
      "min        33.710979    -118.495422       0.000000    3000.000000   \n",
      "25%        34.037048    -118.280952       1.000000    3031.000000   \n",
      "50%        34.046520    -118.256981      30.000000    3064.000000   \n",
      "75%        34.050911    -118.246422      30.000000    4214.000000   \n",
      "max        55.705528      37.606541     999.000000    4594.000000   \n",
      "\n",
      "         end_station  \n",
      "count  700000.000000  \n",
      "mean     3489.726771  \n",
      "std       613.040769  \n",
      "min      3000.000000  \n",
      "25%      3030.000000  \n",
      "50%      3064.000000  \n",
      "75%      4214.000000  \n",
      "max      4594.000000  \n"
     ]
    }
   ],
   "source": [
    "display(df_train.head())\n",
    "display(df_train.info())\n",
    "print(df_train.describe())"
   ]
  },
  {
   "cell_type": "code",
   "execution_count": 4,
   "id": "b7a46faa",
   "metadata": {},
   "outputs": [
    {
     "data": {
      "text/plain": [
       "trip_id                    0\n",
       "duration                   0\n",
       "start_time                 0\n",
       "end_time                   0\n",
       "start_lat               5563\n",
       "start_lon               5563\n",
       "end_lat                18574\n",
       "end_lon                18574\n",
       "bike_id                    0\n",
       "plan_duration            208\n",
       "trip_route_category        0\n",
       "passholder_type         2576\n",
       "start_station              0\n",
       "end_station                0\n",
       "dtype: int64"
      ]
     },
     "execution_count": 4,
     "metadata": {},
     "output_type": "execute_result"
    }
   ],
   "source": [
    "df_train.isnull().sum()"
   ]
  },
  {
   "cell_type": "markdown",
   "id": "f28d7651",
   "metadata": {},
   "source": [
    "__Se encuentra lo siguiente:__\n",
    "- start_lat , start_lon  , end_lat y end_lon tienen valores nulos            \n",
    "- plan_duration y passholder_type tienen valores nulos.\n",
    "- start_time y end_time no estan formato de date\n",
    "- el plan_duration cuenta con un max de 999, lo cual es un valor fuera de lo común\n",
    "\n",
    "Por lo que se analizarán mas a profundidad y corregiran de ser necesario"
   ]
  },
  {
   "cell_type": "markdown",
   "id": "af3f5a04",
   "metadata": {},
   "source": [
    "Ya que las caracteristicas con longitudes y latitudes son las que contienen valores nulos, y ademas tienen su equivalencia en el start_station y end_station se procede a eliminarlas."
   ]
  },
  {
   "cell_type": "code",
   "execution_count": 5,
   "id": "55f2b551",
   "metadata": {},
   "outputs": [],
   "source": [
    "df_train = df_train.drop(['start_lat', 'start_lon', 'end_lat', 'end_lon'], axis=1)\n",
    "df_test = df_test.drop(['start_lat', 'start_lon', 'end_lat', 'end_lon'], axis=1)"
   ]
  },
  {
   "cell_type": "markdown",
   "id": "a9985bc1",
   "metadata": {},
   "source": [
    "Se confirma que las caracteristicas se hayan eliminado correctamente."
   ]
  },
  {
   "cell_type": "code",
   "execution_count": 6,
   "id": "f4b58f80",
   "metadata": {},
   "outputs": [
    {
     "data": {
      "text/plain": [
       "trip_id                   0\n",
       "duration                  0\n",
       "start_time                0\n",
       "end_time                  0\n",
       "bike_id                   0\n",
       "plan_duration           208\n",
       "trip_route_category       0\n",
       "passholder_type        2576\n",
       "start_station             0\n",
       "end_station               0\n",
       "dtype: int64"
      ]
     },
     "execution_count": 6,
     "metadata": {},
     "output_type": "execute_result"
    }
   ],
   "source": [
    "df_train.isnull().sum()"
   ]
  },
  {
   "cell_type": "markdown",
   "id": "1f2d93aa",
   "metadata": {},
   "source": [
    "Aún se tienen valores nulos en plan_duration y passholder_type por lo que se analizan cuantos valores unicos tienen las caracteristicas plan_duration y passholder_type, para entender un poco mas su contenido."
   ]
  },
  {
   "cell_type": "code",
   "execution_count": 7,
   "id": "26d6092d",
   "metadata": {},
   "outputs": [
    {
     "data": {
      "text/plain": [
       "array(['Walk-up', 'Monthly Pass', 'One Day Pass', 'Annual Pass',\n",
       "       'Flex Pass', nan, 'Testing'], dtype=object)"
      ]
     },
     "execution_count": 7,
     "metadata": {},
     "output_type": "execute_result"
    }
   ],
   "source": [
    "df_train['passholder_type'].unique()"
   ]
  },
  {
   "cell_type": "markdown",
   "id": "d8fcde49",
   "metadata": {},
   "source": [
    "Se identifica que en passholder_type hay un campo de testing por lo que se procede a eliminar, ya que esta informacion contiene dummys que pueden afectar nuestro modelado."
   ]
  },
  {
   "cell_type": "code",
   "execution_count": 8,
   "id": "658fc047",
   "metadata": {},
   "outputs": [
    {
     "data": {
      "text/plain": [
       "array(['Walk-up', 'Monthly Pass', 'One Day Pass', 'Annual Pass',\n",
       "       'Flex Pass', nan], dtype=object)"
      ]
     },
     "execution_count": 8,
     "metadata": {},
     "output_type": "execute_result"
    }
   ],
   "source": [
    "df_train = df_train[df_train['passholder_type'] != 'Testing']\n",
    "df_train['passholder_type'].unique()\n"
   ]
  },
  {
   "cell_type": "markdown",
   "id": "f279dd69",
   "metadata": {},
   "source": [
    "Se confirma que el valor de Testing se ha eliminado correctamente y se ve que aun hay un passholder_type con valor nan, el cual  se revisa para tener mas contexto"
   ]
  },
  {
   "cell_type": "code",
   "execution_count": 9,
   "id": "bb2c950b",
   "metadata": {},
   "outputs": [
    {
     "data": {
      "text/plain": [
       "array([30.])"
      ]
     },
     "execution_count": 9,
     "metadata": {},
     "output_type": "execute_result"
    }
   ],
   "source": [
    "df_nan_passholder = df_train[df_train['passholder_type'].isna()]\n",
    "df_nan_passholder['plan_duration'].unique()"
   ]
  },
  {
   "cell_type": "markdown",
   "id": "b11118fd",
   "metadata": {},
   "source": [
    "Se verifica que el passholder_type con nan tiene un plan_duration solo de 30 por lo que se restablece el valor nan por Monthly Pass."
   ]
  },
  {
   "cell_type": "code",
   "execution_count": 10,
   "id": "2e5985de",
   "metadata": {},
   "outputs": [
    {
     "data": {
      "text/plain": [
       "array(['Walk-up', 'Monthly Pass', 'One Day Pass', 'Annual Pass',\n",
       "       'Flex Pass'], dtype=object)"
      ]
     },
     "execution_count": 10,
     "metadata": {},
     "output_type": "execute_result"
    }
   ],
   "source": [
    "df_train.loc[df_train['passholder_type'].isna(), 'passholder_type'] = 'Monthly Pass'\n",
    "df_train['passholder_type'].unique()"
   ]
  },
  {
   "cell_type": "markdown",
   "id": "e64676d7",
   "metadata": {},
   "source": [
    "Nos hemos quedado solo con pases reales, ahora se revisara el plan duration."
   ]
  },
  {
   "cell_type": "code",
   "execution_count": 11,
   "id": "bd773380",
   "metadata": {},
   "outputs": [
    {
     "data": {
      "text/plain": [
       "array([  1.,   0.,  30., 365.,  nan, 150.])"
      ]
     },
     "execution_count": 11,
     "metadata": {},
     "output_type": "execute_result"
    }
   ],
   "source": [
    "df_train['plan_duration'].unique()\n"
   ]
  },
  {
   "cell_type": "markdown",
   "id": "a94119f0",
   "metadata": {},
   "source": [
    "Hay planes con duración nan, por lo que ahora se hace el chequeo a la inversa para saber a que passholders pertenecen, inferir su valor y restablecerlo."
   ]
  },
  {
   "cell_type": "code",
   "execution_count": 12,
   "id": "7ede9c4c",
   "metadata": {},
   "outputs": [
    {
     "data": {
      "text/plain": [
       "array(['Monthly Pass'], dtype=object)"
      ]
     },
     "execution_count": 12,
     "metadata": {},
     "output_type": "execute_result"
    }
   ],
   "source": [
    "df_nan_pduration = df_train[df_train['plan_duration'].isna()]\n",
    "df_nan_pduration['passholder_type'].unique()"
   ]
  },
  {
   "cell_type": "markdown",
   "id": "94259996",
   "metadata": {},
   "source": [
    "Ya que los nan solo pertenecen al Monthly Pass, se restablecera el valor a 30."
   ]
  },
  {
   "cell_type": "code",
   "execution_count": 13,
   "id": "f84712a5",
   "metadata": {},
   "outputs": [
    {
     "data": {
      "text/plain": [
       "array([  1.,   0.,  30., 365., 150.])"
      ]
     },
     "execution_count": 13,
     "metadata": {},
     "output_type": "execute_result"
    }
   ],
   "source": [
    "df_train.loc[df_train['plan_duration'].isna(), 'plan_duration'] = 30\n",
    "df_train['plan_duration'].unique()"
   ]
  },
  {
   "cell_type": "markdown",
   "id": "d4eac263",
   "metadata": {},
   "source": [
    "Ahora se procede a pasar los datos de start_time y end_ time a formato de date."
   ]
  },
  {
   "cell_type": "code",
   "execution_count": 14,
   "id": "96f10ac2",
   "metadata": {},
   "outputs": [],
   "source": [
    "df_train['start_time'] = pd.to_datetime(df_train['start_time'])\n",
    "df_train['end_time'] = pd.to_datetime(df_train['end_time'])\n"
   ]
  },
  {
   "cell_type": "markdown",
   "id": "b7a4ebfe",
   "metadata": {},
   "source": [
    "Se confirma que el data set, ya no contiene valores nulos, los tipos de datos son los correctos, y se han descartado las características innecesarias."
   ]
  },
  {
   "cell_type": "code",
   "execution_count": 15,
   "id": "26bed95c",
   "metadata": {},
   "outputs": [
    {
     "name": "stdout",
     "output_type": "stream",
     "text": [
      "<class 'pandas.core.frame.DataFrame'>\n",
      "Int64Index: 699922 entries, 0 to 699999\n",
      "Data columns (total 10 columns):\n",
      " #   Column               Non-Null Count   Dtype         \n",
      "---  ------               --------------   -----         \n",
      " 0   trip_id              699922 non-null  int64         \n",
      " 1   duration             699922 non-null  int64         \n",
      " 2   start_time           699922 non-null  datetime64[ns]\n",
      " 3   end_time             699922 non-null  datetime64[ns]\n",
      " 4   bike_id              699922 non-null  object        \n",
      " 5   plan_duration        699922 non-null  float64       \n",
      " 6   trip_route_category  699922 non-null  object        \n",
      " 7   passholder_type      699922 non-null  object        \n",
      " 8   start_station        699922 non-null  int64         \n",
      " 9   end_station          699922 non-null  int64         \n",
      "dtypes: datetime64[ns](2), float64(1), int64(4), object(3)\n",
      "memory usage: 58.7+ MB\n"
     ]
    }
   ],
   "source": [
    "df_train.info()"
   ]
  },
  {
   "cell_type": "markdown",
   "id": "3bacdc80",
   "metadata": {},
   "source": [
    "## Análisis exploratorio de Datos (EDA)\n",
    "Se procede a analizar los datos una vez limpios y estandarizados para entender el comportamiento de los usuarios, por estacion, horario y plan."
   ]
  },
  {
   "cell_type": "code",
   "execution_count": 16,
   "id": "73ad814c",
   "metadata": {},
   "outputs": [],
   "source": [
    "def count_plot(value):\n",
    "    sns.countplot(x=value, data=df_train)\n"
   ]
  },
  {
   "cell_type": "code",
   "execution_count": 17,
   "id": "5c480fb9",
   "metadata": {},
   "outputs": [
    {
     "data": {
      "text/plain": [
       "Text(0.5, 1.0, 'Distribución de tipos de Viaje')"
      ]
     },
     "execution_count": 17,
     "metadata": {},
     "output_type": "execute_result"
    },
    {
     "data": {
      "image/png": "[encoded data removed]",
      "text/plain": [
       "<Figure size 432x288 with 1 Axes>"
      ]
     },
     "metadata": {
      "needs_background": "light"
     },
     "output_type": "display_data"
    }
   ],
   "source": [
    "count_plot('trip_route_category')\n",
    "plt.title('Distribución de tipos de Viaje', fontsize=16)"
   ]
  },
  {
   "cell_type": "code",
   "execution_count": 18,
   "id": "e2000b52",
   "metadata": {},
   "outputs": [
    {
     "name": "stdout",
     "output_type": "stream",
     "text": [
      "Porcentaje de viajes redondos: 16.84%\n"
     ]
    }
   ],
   "source": [
    "total_routes = df_train['trip_route_category'].count()\n",
    "one_way = len(df_train.loc[(df_train['trip_route_category'] == 'One Way')])\n",
    "round_trip = len(df_train.loc[(df_train['trip_route_category'] == 'Round Trip')])\n",
    "print(\"Porcentaje de viajes redondos: {}%\".format(round(round_trip / total_routes * 100, 2)))"
   ]
  },
  {
   "cell_type": "markdown",
   "id": "b1e92699",
   "metadata": {},
   "source": [
    "Se dividen todos los viajes por tipo de viaje, y se puede ver que la __83.2% de viajes son de un sentido __, lo que indica que los usuarios toman las bicicletas en una estacion y la dejan en otra."
   ]
  },
  {
   "cell_type": "code",
   "execution_count": 19,
   "id": "4949f547",
   "metadata": {},
   "outputs": [
    {
     "data": {
      "text/plain": [
       "Text(0.5, 1.0, 'Distribución tipos de pases vs tipo de viaje')"
      ]
     },
     "execution_count": 19,
     "metadata": {},
     "output_type": "execute_result"
    },
    {
     "data": {
      "image/png": "[encoded data removed]",
      "text/plain": [
       "<Figure size 1080x360 with 2 Axes>"
      ]
     },
     "metadata": {
      "needs_background": "light"
     },
     "output_type": "display_data"
    }
   ],
   "source": [
    "plt.figure(figsize=(15, 5))\n",
    "plt.subplot(1, 2, 1)\n",
    "count_plot('passholder_type')\n",
    "plt.title('Distribución de tipos de Pases', fontsize=16)\n",
    "plt.subplot(1, 2, 2)\n",
    "sns.countplot(x='passholder_type', data=df_train, hue='trip_route_category')\n",
    "plt.title('Distribución tipos de pases vs tipo de viaje', fontsize=14)"
   ]
  },
  {
   "cell_type": "code",
   "execution_count": 20,
   "id": "dccd6c30",
   "metadata": {},
   "outputs": [
    {
     "data": {
      "text/plain": [
       "Monthly Pass    56.769897\n",
       "Walk-up         30.349953\n",
       "One Day Pass     6.351422\n",
       "Annual Pass      4.870828\n",
       "Flex Pass        1.657899\n",
       "Name: passholder_type, dtype: float64"
      ]
     },
     "metadata": {},
     "output_type": "display_data"
    }
   ],
   "source": [
    "value_counts = df_train['passholder_type'].value_counts()\n",
    "value_perc = (value_counts / value_counts.sum()) * 100\n",
    "display(value_perc)"
   ]
  },
  {
   "cell_type": "markdown",
   "id": "3e09ea01",
   "metadata": {},
   "source": [
    "__Se revisa la distribucion de los viajes por tipo de pase y tipo de viaje.__\n",
    "- El 56.7% esta compuesto por Monthly Pass, mientras que solo el 4.8% usan un Annual Pass.\n",
    "- En todos los tipos de pases la mayoria de viajes son de un solo sentido."
   ]
  },
  {
   "cell_type": "code",
   "execution_count": 21,
   "id": "87cda628",
   "metadata": {},
   "outputs": [],
   "source": [
    "# hacer un breakdown con los que tenmas mas de 11mil viajes"
   ]
  },
  {
   "cell_type": "code",
   "execution_count": 22,
   "id": "2698e4fa",
   "metadata": {},
   "outputs": [
    {
     "data": {
      "image/png": "[encoded data removed]",
      "text/plain": [
       "<Figure size 720x432 with 1 Axes>"
      ]
     },
     "metadata": {
      "needs_background": "light"
     },
     "output_type": "display_data"
    }
   ],
   "source": [
    "df_train['hour'] = df_train['start_time'].dt.hour\n",
    "\n",
    "plt.figure(figsize=(10,6))\n",
    "sns.countplot(x='hour', data=df_train)\n",
    "plt.title('Demanda de Servicio por Hora del Día')\n",
    "plt.xlabel('Hora del Día')\n",
    "plt.ylabel('Número de Viajes')\n",
    "plt.show()"
   ]
  },
  {
   "cell_type": "code",
   "execution_count": 23,
   "id": "db19cc27",
   "metadata": {},
   "outputs": [],
   "source": [
    "hourly_demand_by_pass = df_train.groupby(['hour', 'passholder_type']).size().reset_index(name='num_trips')\n",
    "\n",
    "mean_trips_by_hour_and_pass = hourly_demand_by_pass.groupby(['hour'])['num_trips'].mean().reset_index(name='mean_num_trips')"
   ]
  },
  {
   "cell_type": "code",
   "execution_count": 24,
   "id": "32769d48",
   "metadata": {},
   "outputs": [
    {
     "data": {
      "text/html": [
       "<div>\n",
       "<style scoped>\n",
       "    .dataframe tbody tr th:only-of-type {\n",
       "        vertical-align: middle;\n",
       "    }\n",
       "\n",
       "    .dataframe tbody tr th {\n",
       "        vertical-align: top;\n",
       "    }\n",
       "\n",
       "    .dataframe thead th {\n",
       "        text-align: right;\n",
       "    }\n",
       "</style>\n",
       "<table border=\"1\" class=\"dataframe\">\n",
       "  <thead>\n",
       "    <tr style=\"text-align: right;\">\n",
       "      <th></th>\n",
       "      <th>hour</th>\n",
       "      <th>mean_num_trips</th>\n",
       "    </tr>\n",
       "  </thead>\n",
       "  <tbody>\n",
       "    <tr>\n",
       "      <th>17</th>\n",
       "      <td>17</td>\n",
       "      <td>12623.2</td>\n",
       "    </tr>\n",
       "    <tr>\n",
       "      <th>16</th>\n",
       "      <td>16</td>\n",
       "      <td>11609.2</td>\n",
       "    </tr>\n",
       "    <tr>\n",
       "      <th>18</th>\n",
       "      <td>18</td>\n",
       "      <td>10940.6</td>\n",
       "    </tr>\n",
       "    <tr>\n",
       "      <th>13</th>\n",
       "      <td>13</td>\n",
       "      <td>10366.2</td>\n",
       "    </tr>\n",
       "    <tr>\n",
       "      <th>15</th>\n",
       "      <td>15</td>\n",
       "      <td>10323.4</td>\n",
       "    </tr>\n",
       "    <tr>\n",
       "      <th>12</th>\n",
       "      <td>12</td>\n",
       "      <td>10149.2</td>\n",
       "    </tr>\n",
       "    <tr>\n",
       "      <th>14</th>\n",
       "      <td>14</td>\n",
       "      <td>9907.4</td>\n",
       "    </tr>\n",
       "  </tbody>\n",
       "</table>\n",
       "</div>"
      ],
      "text/plain": [
       "    hour  mean_num_trips\n",
       "17    17         12623.2\n",
       "16    16         11609.2\n",
       "18    18         10940.6\n",
       "13    13         10366.2\n",
       "15    15         10323.4\n",
       "12    12         10149.2\n",
       "14    14          9907.4"
      ]
     },
     "metadata": {},
     "output_type": "display_data"
    }
   ],
   "source": [
    "top_7_hours = mean_trips_by_hour_and_pass.sort_values(by='mean_num_trips', ascending=False).head(7)\n",
    "display(top_7_hours)"
   ]
  },
  {
   "cell_type": "markdown",
   "id": "ba546ddf",
   "metadata": {},
   "source": [
    "Se revisan la distribucion de uso por hora del día.Además de sacar la media de los viajes por hora.\n",
    "\n",
    "__Se encuentra que:__\n",
    "- Hora pico de demanda 17hrs\n",
    "- Rango de alto consumo de las 12 a las 18hr\n",
    "- En las horas picos suele habe un consumo de arriba de 10 mil viajes por hora."
   ]
  },
  {
   "cell_type": "code",
   "execution_count": 25,
   "id": "4598747b",
   "metadata": {},
   "outputs": [
    {
     "data": {
      "image/png": "[encoded data removed]",
      "text/plain": [
       "<Figure size 864x432 with 1 Axes>"
      ]
     },
     "metadata": {
      "needs_background": "light"
     },
     "output_type": "display_data"
    }
   ],
   "source": [
    "df_train['hour'] = df_train['start_time'].dt.hour\n",
    "\n",
    "plt.figure(figsize=(12,6))\n",
    "sns.countplot(x='hour', hue='passholder_type', data=df_train)\n",
    "plt.title('Tipos de Planes por Hora del Día')\n",
    "plt.xlabel('Hora del Día')\n",
    "plt.ylabel('Número de Viajes')\n",
    "plt.legend(title='Tipo de Pase')\n",
    "plt.show()"
   ]
  },
  {
   "cell_type": "markdown",
   "id": "b880d9c8",
   "metadata": {},
   "source": [
    "Se analiza la distribucion de consumo por horario y tipo de pase.\n",
    "- Los viajes que usan Monthly pass tienen una demanda con picos a las 8hr, medio dia y 17hrs, manteniendo una demanda alta casi todo el día.\n",
    "- Los demas pases tienen una distribucion normal."
   ]
  },
  {
   "cell_type": "code",
   "execution_count": 26,
   "id": "87ea2d33",
   "metadata": {},
   "outputs": [
    {
     "data": {
      "image/png": "[encoded data removed]",
      "text/plain": [
       "<Figure size 432x288 with 1 Axes>"
      ]
     },
     "metadata": {
      "needs_background": "light"
     },
     "output_type": "display_data"
    }
   ],
   "source": [
    "df_train['day_of_week'] = df_train['start_time'].dt.day_name()\n",
    "\n",
    "demand_by_day = df_train.groupby('day_of_week').size().reset_index(name='num_trips')\n",
    "\n",
    "ordered_days = ['Monday', 'Tuesday', 'Wednesday', 'Thursday', 'Friday', 'Saturday', 'Sunday']\n",
    "demand_by_day['day_of_week'] = pd.Categorical(demand_by_day['day_of_week'], categories=ordered_days, ordered=True)\n",
    "\n",
    "\n",
    "demand_by_day = demand_by_day.sort_values('day_of_week')\n",
    "\n",
    "sns.barplot(x='day_of_week', y='num_trips', data=demand_by_day, palette='viridis')\n",
    "plt.title('Número de Viajes por Día de la Semana', fontsize=16)\n",
    "plt.xlabel('Día de la Semana', fontsize=12)\n",
    "plt.ylabel('Número de Viajes', fontsize=12)\n",
    "plt.xticks(rotation=45)\n",
    "plt.show()"
   ]
  },
  {
   "cell_type": "code",
   "execution_count": 27,
   "id": "91436117",
   "metadata": {},
   "outputs": [
    {
     "data": {
      "text/html": [
       "<div>\n",
       "<style scoped>\n",
       "    .dataframe tbody tr th:only-of-type {\n",
       "        vertical-align: middle;\n",
       "    }\n",
       "\n",
       "    .dataframe tbody tr th {\n",
       "        vertical-align: top;\n",
       "    }\n",
       "\n",
       "    .dataframe thead th {\n",
       "        text-align: right;\n",
       "    }\n",
       "</style>\n",
       "<table border=\"1\" class=\"dataframe\">\n",
       "  <thead>\n",
       "    <tr style=\"text-align: right;\">\n",
       "      <th></th>\n",
       "      <th>day_of_week</th>\n",
       "      <th>num_trips</th>\n",
       "      <th>percentage</th>\n",
       "    </tr>\n",
       "  </thead>\n",
       "  <tbody>\n",
       "    <tr>\n",
       "      <th>1</th>\n",
       "      <td>Monday</td>\n",
       "      <td>95018</td>\n",
       "      <td>13.575513</td>\n",
       "    </tr>\n",
       "    <tr>\n",
       "      <th>5</th>\n",
       "      <td>Tuesday</td>\n",
       "      <td>101361</td>\n",
       "      <td>14.481757</td>\n",
       "    </tr>\n",
       "    <tr>\n",
       "      <th>6</th>\n",
       "      <td>Wednesday</td>\n",
       "      <td>98556</td>\n",
       "      <td>14.080998</td>\n",
       "    </tr>\n",
       "    <tr>\n",
       "      <th>4</th>\n",
       "      <td>Thursday</td>\n",
       "      <td>100343</td>\n",
       "      <td>14.336312</td>\n",
       "    </tr>\n",
       "    <tr>\n",
       "      <th>0</th>\n",
       "      <td>Friday</td>\n",
       "      <td>105558</td>\n",
       "      <td>15.081395</td>\n",
       "    </tr>\n",
       "    <tr>\n",
       "      <th>2</th>\n",
       "      <td>Saturday</td>\n",
       "      <td>100635</td>\n",
       "      <td>14.378031</td>\n",
       "    </tr>\n",
       "    <tr>\n",
       "      <th>3</th>\n",
       "      <td>Sunday</td>\n",
       "      <td>98451</td>\n",
       "      <td>14.065996</td>\n",
       "    </tr>\n",
       "  </tbody>\n",
       "</table>\n",
       "</div>"
      ],
      "text/plain": [
       "  day_of_week  num_trips  percentage\n",
       "1      Monday      95018   13.575513\n",
       "5     Tuesday     101361   14.481757\n",
       "6   Wednesday      98556   14.080998\n",
       "4    Thursday     100343   14.336312\n",
       "0      Friday     105558   15.081395\n",
       "2    Saturday     100635   14.378031\n",
       "3      Sunday      98451   14.065996"
      ]
     },
     "metadata": {},
     "output_type": "display_data"
    },
    {
     "name": "stdout",
     "output_type": "stream",
     "text": [
      "La media de los porcentajes es: 14.29%\n"
     ]
    }
   ],
   "source": [
    "total_trips = demand_by_day['num_trips'].sum()\n",
    "demand_by_day['percentage'] = (demand_by_day['num_trips'] / total_trips) * 100\n",
    "mean_percentage = demand_by_day['percentage'].mean()\n",
    "display(demand_by_day)\n",
    "print(f\"La media de los porcentajes es: {mean_percentage:.2f}%\")"
   ]
  },
  {
   "cell_type": "markdown",
   "id": "8ee7f4ca",
   "metadata": {},
   "source": [
    "Se analiza la cantidad de viajes por día de semana para saber si hay día con mayor o menor demanda.\n",
    "- En general el consumo por día se manteniene relativamente constante cerca de la media.\n",
    "- El día viernes es día con mayor demanda con un .7% extra de viajes arriba de la media.\n",
    "- El día lunes es el día con menor demanda con un .7% menos de la media."
   ]
  },
  {
   "cell_type": "code",
   "execution_count": 28,
   "id": "112f1903",
   "metadata": {},
   "outputs": [
    {
     "data": {
      "text/html": [
       "<div>\n",
       "<style scoped>\n",
       "    .dataframe tbody tr th:only-of-type {\n",
       "        vertical-align: middle;\n",
       "    }\n",
       "\n",
       "    .dataframe tbody tr th {\n",
       "        vertical-align: top;\n",
       "    }\n",
       "\n",
       "    .dataframe thead th {\n",
       "        text-align: right;\n",
       "    }\n",
       "</style>\n",
       "<table border=\"1\" class=\"dataframe\">\n",
       "  <thead>\n",
       "    <tr style=\"text-align: right;\">\n",
       "      <th></th>\n",
       "      <th>start_station</th>\n",
       "      <th>demand</th>\n",
       "      <th>cluster</th>\n",
       "    </tr>\n",
       "  </thead>\n",
       "  <tbody>\n",
       "    <tr>\n",
       "      <th>0</th>\n",
       "      <td>3000</td>\n",
       "      <td>1128</td>\n",
       "      <td>0</td>\n",
       "    </tr>\n",
       "    <tr>\n",
       "      <th>1</th>\n",
       "      <td>3005</td>\n",
       "      <td>28490</td>\n",
       "      <td>3</td>\n",
       "    </tr>\n",
       "    <tr>\n",
       "      <th>2</th>\n",
       "      <td>3006</td>\n",
       "      <td>12645</td>\n",
       "      <td>1</td>\n",
       "    </tr>\n",
       "    <tr>\n",
       "      <th>3</th>\n",
       "      <td>3007</td>\n",
       "      <td>10774</td>\n",
       "      <td>6</td>\n",
       "    </tr>\n",
       "    <tr>\n",
       "      <th>4</th>\n",
       "      <td>3008</td>\n",
       "      <td>9051</td>\n",
       "      <td>6</td>\n",
       "    </tr>\n",
       "  </tbody>\n",
       "</table>\n",
       "</div>"
      ],
      "text/plain": [
       "   start_station  demand  cluster\n",
       "0           3000    1128        0\n",
       "1           3005   28490        3\n",
       "2           3006   12645        1\n",
       "3           3007   10774        6\n",
       "4           3008    9051        6"
      ]
     },
     "execution_count": 28,
     "metadata": {},
     "output_type": "execute_result"
    }
   ],
   "source": [
    "demand_by_station = df_train.groupby('start_station').size().reset_index(name='demand')\n",
    "\n",
    "kmeans = KMeans(n_clusters=8, random_state=42)\n",
    "\n",
    "demand_by_station['cluster'] = kmeans.fit_predict(demand_by_station[['demand']])\n",
    "\n",
    "demand_by_station.head()"
   ]
  },
  {
   "cell_type": "code",
   "execution_count": 29,
   "id": "ae76eb11",
   "metadata": {},
   "outputs": [
    {
     "data": {
      "image/png": "[encoded data removed]",
      "text/plain": [
       "<Figure size 1008x576 with 1 Axes>"
      ]
     },
     "metadata": {
      "needs_background": "light"
     },
     "output_type": "display_data"
    }
   ],
   "source": [
    "plt.figure(figsize=(14, 8))\n",
    "\n",
    "sns.scatterplot(data=demand_by_station, x='start_station', y='demand', hue='cluster', palette='Set1')\n",
    "\n",
    "plt.xticks(rotation=90)\n",
    "\n",
    "plt.title('Demanda de Servicio por Estación con Clusters', fontsize=16)\n",
    "plt.xlabel('Estación', fontsize=12)\n",
    "plt.ylabel('Demanda de Servicio (Número de Viajes)', fontsize=12)\n",
    "\n",
    "plt.show()"
   ]
  },
  {
   "cell_type": "code",
   "execution_count": 30,
   "id": "bd27e0f0",
   "metadata": {},
   "outputs": [
    {
     "data": {
      "text/html": [
       "<div>\n",
       "<style scoped>\n",
       "    .dataframe tbody tr th:only-of-type {\n",
       "        vertical-align: middle;\n",
       "    }\n",
       "\n",
       "    .dataframe tbody tr th {\n",
       "        vertical-align: top;\n",
       "    }\n",
       "\n",
       "    .dataframe thead th {\n",
       "        text-align: right;\n",
       "    }\n",
       "</style>\n",
       "<table border=\"1\" class=\"dataframe\">\n",
       "  <thead>\n",
       "    <tr style=\"text-align: right;\">\n",
       "      <th></th>\n",
       "      <th>cluster</th>\n",
       "      <th>min</th>\n",
       "      <th>max</th>\n",
       "    </tr>\n",
       "  </thead>\n",
       "  <tbody>\n",
       "    <tr>\n",
       "      <th>0</th>\n",
       "      <td>0</td>\n",
       "      <td>767</td>\n",
       "      <td>2246</td>\n",
       "    </tr>\n",
       "    <tr>\n",
       "      <th>1</th>\n",
       "      <td>1</td>\n",
       "      <td>11633</td>\n",
       "      <td>15381</td>\n",
       "    </tr>\n",
       "    <tr>\n",
       "      <th>2</th>\n",
       "      <td>2</td>\n",
       "      <td>4954</td>\n",
       "      <td>7377</td>\n",
       "    </tr>\n",
       "    <tr>\n",
       "      <th>3</th>\n",
       "      <td>3</td>\n",
       "      <td>28490</td>\n",
       "      <td>28490</td>\n",
       "    </tr>\n",
       "    <tr>\n",
       "      <th>4</th>\n",
       "      <td>4</td>\n",
       "      <td>2381</td>\n",
       "      <td>4573</td>\n",
       "    </tr>\n",
       "    <tr>\n",
       "      <th>5</th>\n",
       "      <td>5</td>\n",
       "      <td>1</td>\n",
       "      <td>742</td>\n",
       "    </tr>\n",
       "    <tr>\n",
       "      <th>6</th>\n",
       "      <td>6</td>\n",
       "      <td>8048</td>\n",
       "      <td>10776</td>\n",
       "    </tr>\n",
       "    <tr>\n",
       "      <th>7</th>\n",
       "      <td>7</td>\n",
       "      <td>17069</td>\n",
       "      <td>20280</td>\n",
       "    </tr>\n",
       "  </tbody>\n",
       "</table>\n",
       "</div>"
      ],
      "text/plain": [
       "   cluster    min    max\n",
       "0        0    767   2246\n",
       "1        1  11633  15381\n",
       "2        2   4954   7377\n",
       "3        3  28490  28490\n",
       "4        4   2381   4573\n",
       "5        5      1    742\n",
       "6        6   8048  10776\n",
       "7        7  17069  20280"
      ]
     },
     "metadata": {},
     "output_type": "display_data"
    }
   ],
   "source": [
    "demand_range_by_cluster = demand_by_station.groupby('cluster')['demand'].agg(['min', 'max']).reset_index()\n",
    "display(demand_range_by_cluster)"
   ]
  },
  {
   "cell_type": "code",
   "execution_count": 31,
   "id": "568e4793",
   "metadata": {},
   "outputs": [
    {
     "data": {
      "text/html": [
       "<div>\n",
       "<style scoped>\n",
       "    .dataframe tbody tr th:only-of-type {\n",
       "        vertical-align: middle;\n",
       "    }\n",
       "\n",
       "    .dataframe tbody tr th {\n",
       "        vertical-align: top;\n",
       "    }\n",
       "\n",
       "    .dataframe thead th {\n",
       "        text-align: right;\n",
       "    }\n",
       "</style>\n",
       "<table border=\"1\" class=\"dataframe\">\n",
       "  <thead>\n",
       "    <tr style=\"text-align: right;\">\n",
       "      <th></th>\n",
       "      <th>start_station</th>\n",
       "      <th>demand</th>\n",
       "    </tr>\n",
       "  </thead>\n",
       "  <tbody>\n",
       "    <tr>\n",
       "      <th>0</th>\n",
       "      <td>4545</td>\n",
       "      <td>767</td>\n",
       "    </tr>\n",
       "    <tr>\n",
       "      <th>1</th>\n",
       "      <td>4480</td>\n",
       "      <td>768</td>\n",
       "    </tr>\n",
       "    <tr>\n",
       "      <th>2</th>\n",
       "      <td>4147</td>\n",
       "      <td>771</td>\n",
       "    </tr>\n",
       "    <tr>\n",
       "      <th>3</th>\n",
       "      <td>4445</td>\n",
       "      <td>792</td>\n",
       "    </tr>\n",
       "    <tr>\n",
       "      <th>4</th>\n",
       "      <td>4144</td>\n",
       "      <td>810</td>\n",
       "    </tr>\n",
       "    <tr>\n",
       "      <th>...</th>\n",
       "      <td>...</td>\n",
       "      <td>...</td>\n",
       "    </tr>\n",
       "    <tr>\n",
       "      <th>359</th>\n",
       "      <td>4215</td>\n",
       "      <td>10776</td>\n",
       "    </tr>\n",
       "    <tr>\n",
       "      <th>360</th>\n",
       "      <td>3031</td>\n",
       "      <td>17069</td>\n",
       "    </tr>\n",
       "    <tr>\n",
       "      <th>361</th>\n",
       "      <td>4214</td>\n",
       "      <td>17466</td>\n",
       "    </tr>\n",
       "    <tr>\n",
       "      <th>362</th>\n",
       "      <td>3014</td>\n",
       "      <td>18739</td>\n",
       "    </tr>\n",
       "    <tr>\n",
       "      <th>363</th>\n",
       "      <td>3030</td>\n",
       "      <td>20280</td>\n",
       "    </tr>\n",
       "  </tbody>\n",
       "</table>\n",
       "<p>364 rows × 2 columns</p>\n",
       "</div>"
      ],
      "text/plain": [
       "     start_station  demand\n",
       "0             4545     767\n",
       "1             4480     768\n",
       "2             4147     771\n",
       "3             4445     792\n",
       "4             4144     810\n",
       "..             ...     ...\n",
       "359           4215   10776\n",
       "360           3031   17069\n",
       "361           4214   17466\n",
       "362           3014   18739\n",
       "363           3030   20280\n",
       "\n",
       "[364 rows x 2 columns]"
      ]
     },
     "metadata": {},
     "output_type": "display_data"
    }
   ],
   "source": [
    "stations_in_clusters = demand_by_station.groupby('cluster')[['start_station', 'demand']].apply(lambda x: x.sort_values('demand')).reset_index(drop=True)\n",
    "display(stations_in_clusters)"
   ]
  },
  {
   "cell_type": "code",
   "execution_count": 32,
   "id": "298810e7",
   "metadata": {},
   "outputs": [
    {
     "data": {
      "text/html": [
       "<div>\n",
       "<style scoped>\n",
       "    .dataframe tbody tr th:only-of-type {\n",
       "        vertical-align: middle;\n",
       "    }\n",
       "\n",
       "    .dataframe tbody tr th {\n",
       "        vertical-align: top;\n",
       "    }\n",
       "\n",
       "    .dataframe thead th {\n",
       "        text-align: right;\n",
       "    }\n",
       "</style>\n",
       "<table border=\"1\" class=\"dataframe\">\n",
       "  <thead>\n",
       "    <tr style=\"text-align: right;\">\n",
       "      <th></th>\n",
       "      <th>index</th>\n",
       "      <th>start_station</th>\n",
       "      <th>demand</th>\n",
       "      <th>cluster</th>\n",
       "    </tr>\n",
       "  </thead>\n",
       "  <tbody>\n",
       "    <tr>\n",
       "      <th>0</th>\n",
       "      <td>1</td>\n",
       "      <td>3005</td>\n",
       "      <td>28490</td>\n",
       "      <td>3</td>\n",
       "    </tr>\n",
       "    <tr>\n",
       "      <th>1</th>\n",
       "      <td>22</td>\n",
       "      <td>3030</td>\n",
       "      <td>20280</td>\n",
       "      <td>7</td>\n",
       "    </tr>\n",
       "    <tr>\n",
       "      <th>2</th>\n",
       "      <td>9</td>\n",
       "      <td>3014</td>\n",
       "      <td>18739</td>\n",
       "      <td>7</td>\n",
       "    </tr>\n",
       "    <tr>\n",
       "      <th>3</th>\n",
       "      <td>122</td>\n",
       "      <td>4214</td>\n",
       "      <td>17466</td>\n",
       "      <td>7</td>\n",
       "    </tr>\n",
       "    <tr>\n",
       "      <th>4</th>\n",
       "      <td>23</td>\n",
       "      <td>3031</td>\n",
       "      <td>17069</td>\n",
       "      <td>7</td>\n",
       "    </tr>\n",
       "    <tr>\n",
       "      <th>5</th>\n",
       "      <td>27</td>\n",
       "      <td>3035</td>\n",
       "      <td>15381</td>\n",
       "      <td>1</td>\n",
       "    </tr>\n",
       "    <tr>\n",
       "      <th>6</th>\n",
       "      <td>51</td>\n",
       "      <td>3064</td>\n",
       "      <td>14733</td>\n",
       "      <td>1</td>\n",
       "    </tr>\n",
       "    <tr>\n",
       "      <th>7</th>\n",
       "      <td>65</td>\n",
       "      <td>3082</td>\n",
       "      <td>13667</td>\n",
       "      <td>1</td>\n",
       "    </tr>\n",
       "    <tr>\n",
       "      <th>8</th>\n",
       "      <td>118</td>\n",
       "      <td>4210</td>\n",
       "      <td>13379</td>\n",
       "      <td>1</td>\n",
       "    </tr>\n",
       "    <tr>\n",
       "      <th>9</th>\n",
       "      <td>33</td>\n",
       "      <td>3042</td>\n",
       "      <td>12667</td>\n",
       "      <td>1</td>\n",
       "    </tr>\n",
       "    <tr>\n",
       "      <th>10</th>\n",
       "      <td>2</td>\n",
       "      <td>3006</td>\n",
       "      <td>12645</td>\n",
       "      <td>1</td>\n",
       "    </tr>\n",
       "    <tr>\n",
       "      <th>11</th>\n",
       "      <td>56</td>\n",
       "      <td>3069</td>\n",
       "      <td>12638</td>\n",
       "      <td>1</td>\n",
       "    </tr>\n",
       "    <tr>\n",
       "      <th>12</th>\n",
       "      <td>54</td>\n",
       "      <td>3067</td>\n",
       "      <td>11633</td>\n",
       "      <td>1</td>\n",
       "    </tr>\n",
       "  </tbody>\n",
       "</table>\n",
       "</div>"
      ],
      "text/plain": [
       "    index  start_station  demand  cluster\n",
       "0       1           3005   28490        3\n",
       "1      22           3030   20280        7\n",
       "2       9           3014   18739        7\n",
       "3     122           4214   17466        7\n",
       "4      23           3031   17069        7\n",
       "5      27           3035   15381        1\n",
       "6      51           3064   14733        1\n",
       "7      65           3082   13667        1\n",
       "8     118           4210   13379        1\n",
       "9      33           3042   12667        1\n",
       "10      2           3006   12645        1\n",
       "11     56           3069   12638        1\n",
       "12     54           3067   11633        1"
      ]
     },
     "metadata": {},
     "output_type": "display_data"
    }
   ],
   "source": [
    "stations_above_11000 = demand_by_station[demand_by_station['demand'] > 11000]\n",
    "stations_above_11000 = stations_above_11000.sort_values(by='demand', ascending=False).reset_index()\n",
    "display(stations_above_11000)"
   ]
  },
  {
   "cell_type": "code",
   "execution_count": 33,
   "id": "e26e99fd",
   "metadata": {},
   "outputs": [],
   "source": [
    "top5 = pd.DataFrame()\n",
    "top5['Station'] = df_train['start_station'].value_counts().head().index\n",
    "top5['Number of Starts']=df_train['start_station'].value_counts().head().values\n",
    "top5['Station'] = top5['Station'].astype('category')\n",
    "top5['Station'] = top5.Station.cat.remove_unused_categories()"
   ]
  },
  {
   "cell_type": "code",
   "execution_count": 34,
   "id": "54e8dcd5",
   "metadata": {},
   "outputs": [
    {
     "name": "stderr",
     "output_type": "stream",
     "text": [
      "C:\\Users\\cpalomino\\Anaconda3\\lib\\site-packages\\seaborn\\_decorators.py:36: FutureWarning: Pass the following variables as keyword args: x, y. From version 0.12, the only valid positional argument will be `data`, and passing other arguments without an explicit keyword will result in an error or misinterpretation.\n",
      "  warnings.warn(\n"
     ]
    },
    {
     "data": {
      "image/png": "[encoded data removed]",
      "text/plain": [
       "<Figure size 432x288 with 1 Axes>"
      ]
     },
     "metadata": {
      "needs_background": "light"
     },
     "output_type": "display_data"
    }
   ],
   "source": [
    "sns.barplot('Station', 'Number of Starts', data = top5)\n",
    "plt.xticks(rotation=40, ha = 'right')\n",
    "plt.title(\"Top 5 estaciones por punto de inicio\")\n",
    "plt.show()"
   ]
  },
  {
   "cell_type": "code",
   "execution_count": 35,
   "id": "bd83d375",
   "metadata": {},
   "outputs": [],
   "source": [
    "trips = pd.DataFrame()\n",
    "trips = df_train.groupby(['start_station','end_station']).size().reset_index(name = 'Number of Trips')\n",
    "trips = trips.sort_values('Number of Trips', ascending = False)\n",
    "trips['start_station'] = trips['start_station'].astype('str')\n",
    "trips['end_station'] = trips['end_station'].astype('str')\n",
    "trips[\"Trip\"] = trips[\"start_station\"] + \" to \" + trips[\"end_station\"]\n",
    "trips = trips[:10]\n",
    "trips = trips.drop(['start_station', \"end_station\"], axis = 1)\n",
    "trips = trips.reset_index()\n"
   ]
  },
  {
   "cell_type": "code",
   "execution_count": 36,
   "id": "90c76629",
   "metadata": {},
   "outputs": [
    {
     "data": {
      "image/png": "[encoded data removed]",
      "text/plain": [
       "<Figure size 720x432 with 1 Axes>"
      ]
     },
     "metadata": {
      "needs_background": "light"
     },
     "output_type": "display_data"
    }
   ],
   "source": [
    "plt.figure(figsize=(10, 6))\n",
    "\n",
    "sns.barplot(x='Number of Trips', y='Trip', data=trips, orient='h')\n",
    "\n",
    "plt.title('Número de Viajes por Trayecto', fontsize=14)\n",
    "plt.xlabel('Número de Viajes', fontsize=12)\n",
    "plt.ylabel('Trayecto (Estación Origen a Destino)', fontsize=12)\n",
    "\n",
    "plt.show()"
   ]
  },
  {
   "cell_type": "markdown",
   "id": "a4fce6c5",
   "metadata": {},
   "source": [
    "Se agruparon las estaciones en clusters por demanda de viajes.\n",
    "- Clusters 1,3 y 7 son los que tienen mas viajes.\n",
    "- Hay 12 estaciones que estan en estos clusters con una demanda superior a los 11mil viajes.\n",
    "- Estaciones 3005 y 3030 tienen una demanda superior a los 20mil viajes.\n",
    "- Los viajes One-Way más usados son los de la ruta 3030 -3014 , 3014 -3030 , 4214 -4215 "
   ]
  },
  {
   "cell_type": "code",
   "execution_count": 37,
   "id": "1d82a362",
   "metadata": {},
   "outputs": [],
   "source": [
    "def plot_trip_route_by_year(df_train, years, columna_fecha='start_time', bins=20):\n",
    "    \"\"\"\n",
    "    Grafica la distribución de tipos de ruta por mes para diferentes años.\n",
    "    \n",
    "    Parameters:\n",
    "    - df_train: DataFrame que contiene los datos.\n",
    "    - years: Lista de años a graficar.\n",
    "    - columna_fecha: Nombre de la columna de fecha (por defecto 'start_time').\n",
    "    \"\"\"\n",
    "    df_train['year'] = df_train[columna_fecha].dt.year\n",
    "    df_train['month'] = df_train[columna_fecha].dt.month\n",
    "    \n",
    "    ncols = 2  \n",
    "    nrows = int(np.ceil(len(years) / ncols))  \n",
    "    \n",
    "    fig, axes = plt.subplots(nrows=nrows, ncols=ncols, figsize=(20, 18))\n",
    "    \n",
    "    if len(years) == 1:\n",
    "        axes = np.array([axes])\n",
    "    \n",
    "    axes = axes.flatten()\n",
    "    \n",
    "    for i, year in enumerate(years):\n",
    "        \n",
    "        df_year = df_train[df_train['year'] == year]\n",
    "        \n",
    "        # Asegúrate de que todos los meses estén presentes, incluso si no hay viajes en alguno\n",
    "        all_months = pd.DataFrame({'month': range(1, 13)})\n",
    "        monthly_trip_counts = df_year.groupby(['month', 'trip_route_category']).size().reset_index(name='count')\n",
    "        \n",
    "        # Unir para asegurarse de que todos los meses estén en los datos\n",
    "        monthly_trip_counts = pd.merge(all_months, monthly_trip_counts, on='month', how='left').fillna({'count': 0})\n",
    "        \n",
    "        # Gráfica con los datos\n",
    "        sns.histplot(data=monthly_trip_counts, x='month', hue='trip_route_category', weights='count', multiple=\"stack\", kde=False, ax=axes[i],binwidth=1, discrete=True )\n",
    "        \n",
    "        axes[i].set_title(f'Distribución de Tipos de Ruta por Mes en {year}', fontsize=16)\n",
    "        axes[i].set_xlabel('Mes del Año', fontsize=12)\n",
    "        axes[i].set_ylabel('Número de Viajes', fontsize=12)\n",
    "        axes[i].set_xticks(range(1, 13))\n",
    "        axes[i].set_xticklabels(['Ene', 'Feb', 'Mar', 'Abr', 'May', 'Jun', 'Jul', 'Ago', 'Sep', 'Oct', 'Nov', 'Dic'])\n",
    "    \n",
    "    plt.tight_layout()\n",
    "    plt.show()"
   ]
  },
  {
   "cell_type": "code",
   "execution_count": 38,
   "id": "283783e1",
   "metadata": {},
   "outputs": [
    {
     "data": {
      "image/png": "[encoded data removed]",
      "text/plain": [
       "<Figure size 1440x1296 with 6 Axes>"
      ]
     },
     "metadata": {
      "needs_background": "light"
     },
     "output_type": "display_data"
    }
   ],
   "source": [
    "plot_trip_route_by_year(df_train, years=[2016, 2017, 2018, 2019 ,2020, 2021],bins = 12)"
   ]
  },
  {
   "cell_type": "code",
   "execution_count": 39,
   "id": "7f58179d",
   "metadata": {},
   "outputs": [
    {
     "name": "stdout",
     "output_type": "stream",
     "text": [
      "Media de viajes por mes: 58326.833333333336\n",
      "       total_trips  percentage\n",
      "month                         \n",
      "1            50876    7.268810\n",
      "2            48861    6.980921\n",
      "3            50566    7.224519\n",
      "4            50319    7.189230\n",
      "5            58653    8.379934\n",
      "6            60346    8.621818\n",
      "7            65347    9.336326\n",
      "8            69054    9.865956\n",
      "9            54593    7.799869\n",
      "10           75281   10.755627\n",
      "11           62004    8.858701\n",
      "12           54022    7.718289\n"
     ]
    }
   ],
   "source": [
    "monthly_trip_counts = df_train.groupby('month').size()\n",
    "\n",
    "mean_trips_per_month = monthly_trip_counts.mean()\n",
    "\n",
    "\n",
    "total_trips = monthly_trip_counts.sum()\n",
    "\n",
    "monthly_percentage = (monthly_trip_counts / total_trips) * 100\n",
    "monthly_trips = pd.DataFrame({\n",
    "    'total_trips': monthly_trip_counts,\n",
    "    'percentage': monthly_percentage\n",
    "})\n",
    "\n",
    "\n",
    "print(f\"Media de viajes por mes: {mean_trips_per_month}\")\n",
    "print(monthly_trips)"
   ]
  },
  {
   "cell_type": "markdown",
   "id": "f0b84eca",
   "metadata": {},
   "source": [
    "Se revisa la tendencia historica por año del uso de tipo de viajes (One-way y Round Trip)\n",
    "- Historicamente el Round Trip aunque es menor menor mantiene la misma curca que One-Way.\n",
    "- La tendencia del uso  tiene una liger alza en verano durante los meses de jun a agosto y octubre con el mes con la mayor demanda, estando por encima de la media."
   ]
  },
  {
   "cell_type": "markdown",
   "id": "9ed578f5",
   "metadata": {},
   "source": [
    "## Resumen \n",
    "\n",
    "Saturación del servicio:\n",
    "\n",
    "__Horario__\n",
    "- Se concluye que la hora pico de demanda son las 17hr, manteniendo un alto consumo durante las horas de 12 a 18hrs\n",
    "- Se suele tener un consumo superior de 10 mil viajes por hora durante las horas pico\n",
    "- El día viernes tiene un 0.7% más demanda a comparación de la media de los demás días, menos el lunes que tiene un 0.7% menos que la media.\n",
    "\n",
    "__Planes__\n",
    "- 56.7% son viajes hechos con Monthly Pass\n",
    "- 4.8% son viajes hechos con Annual Pass \n",
    "\n",
    "__Tipos de Viaje__\n",
    "- 83.2% de los viajes son One-way\n",
    "- En todos los planes la mayoría de tipos de viaje son One-way\n",
    "\n",
    "__Estaciones__\n",
    "- 12 Estaciones con una demanda superior a los 11 mil viajes (3005 ,3030,3014,4214,3031,3035,3064,3082,4210,3042,3006,3069,3067)\n",
    "- Estaciones 3005 y 3030 con demanda superior a 20 mil viajes\n",
    "- Los viajes One-Way más usados son los de la ruta 3030 -3014 , 3014 -3030 , 4214 -4215 \n",
    "\n",
    "__Estacionalidad__\n",
    "- Incremento de la demanda en los meses de Jun a Nov, con un pico en Octubre de 2.5% sobre la media.\n",
    "\n"
   ]
  },
  {
   "cell_type": "markdown",
   "id": "2a6ae4ed",
   "metadata": {},
   "source": [
    "## Conclusion\n",
    "- Se recomienda aumentar la disponibilidad de bicicletas durante las horas de 12 a 18 hrs, sobre todo los días viernes.\n",
    "- No se ve ninguna tendencia para preveer que el Annual Pass vaya a tener un mayor consumo por loque se recomienda hacer algún tipo de campaña para promocionarlo.\n",
    "- Se confirma que los One-Way trips son los mas usados, por lo que se debe hacer una buena logistica para re-acomodar las bicicletas en sus estaciones correspondientes\n",
    "- Se deben asignar más bicicletas a las estaciones (3005 ,3030,3014,4214,3031,3035,3064,3082,4210,3042,3006,3069,3067), sobre todo a la 3005 y 3030, ya que son las que más demanda tienen.\n",
    "- Ya que las rutas de un solo viaje son las 3030 -3014 , 3014 -3030 , 4214 -4215 , se recomienda hacer un balanceo en horas picos para contar con suficientes bicicletas en esas rutas.\n"
   ]
  },
  {
   "cell_type": "markdown",
   "id": "079aac1b",
   "metadata": {},
   "source": [
    "## Modelo Analítico\n",
    "\n",
    "Se desea saber si es posible inferir el tipo de pase tomando en cuentas las variables de viaje. \n",
    "\n",
    "Ya que la variable objetivo para predecir el tipo de viaje es el \"passholder_type\" y esta es una variable categórica,  nos enfrentamos a un problema de __clasificación__, por lo que se seleccionara un modelo supervisado de clasificación.\n",
    "\n",
    "Para la construccion y entrenamiento del Modelo de prediccion del tipo de pase se realizaran las siguientes tareas:\n",
    "\n",
    "* Importacion del conjunto de datos para su entrenamiento y validacion (hecho en el primer segmento)\n",
    "* Segmentacion de datos para su entreamiento, validacion y prueba (los conjuntos de datos ya venian segmentados)\n",
    "* Creacion de Modelo con un valor minimo de 0.59 F1\n",
    "* Verificación de F1 para el conjunto de prueba.\n",
    "* Medición de la métrica AUC-ROC \n",
    "* Comparación AUC-ROC vs F1\n",
    "* Conclusion final\n"
   ]
  },
  {
   "cell_type": "code",
   "execution_count": 40,
   "id": "87c6892b",
   "metadata": {},
   "outputs": [],
   "source": [
    "df_train = df_train.drop([\"end_time\"], axis = 1)\n",
    "df_test = df_test.drop([\"end_time\"], axis = 1)\n"
   ]
  },
  {
   "cell_type": "code",
   "execution_count": 41,
   "id": "df2d8778",
   "metadata": {},
   "outputs": [],
   "source": [
    "df_test['start_time'] = pd.to_datetime(df_test['start_time'])\n",
    "df_train[\"day_of_week\"] = df_train[\"start_time\"].dt.day\n",
    "\n",
    "df_test[\"hour\"] = df_test[\"start_time\"].dt.hour\n",
    "df_test[\"day_of_week\"] = df_test[\"start_time\"].dt.day\n",
    "df_test[\"year\"] = df_test[\"start_time\"].dt.year\n",
    "df_test[\"month\"] = df_test[\"start_time\"].dt.month\n",
    "\n"
   ]
  },
  {
   "cell_type": "code",
   "execution_count": 42,
   "id": "88a484cc",
   "metadata": {},
   "outputs": [],
   "source": [
    "df_train = df_train.drop([\"start_time\"], axis = 1)\n",
    "df_test = df_test.drop([\"start_time\"], axis = 1)"
   ]
  },
  {
   "cell_type": "code",
   "execution_count": 43,
   "id": "bd273b6b",
   "metadata": {},
   "outputs": [
    {
     "data": {
      "text/html": [
       "<div>\n",
       "<style scoped>\n",
       "    .dataframe tbody tr th:only-of-type {\n",
       "        vertical-align: middle;\n",
       "    }\n",
       "\n",
       "    .dataframe tbody tr th {\n",
       "        vertical-align: top;\n",
       "    }\n",
       "\n",
       "    .dataframe thead th {\n",
       "        text-align: right;\n",
       "    }\n",
       "</style>\n",
       "<table border=\"1\" class=\"dataframe\">\n",
       "  <thead>\n",
       "    <tr style=\"text-align: right;\">\n",
       "      <th></th>\n",
       "      <th>trip_id</th>\n",
       "      <th>duration</th>\n",
       "      <th>bike_id</th>\n",
       "      <th>plan_duration</th>\n",
       "      <th>trip_route_category</th>\n",
       "      <th>passholder_type</th>\n",
       "      <th>start_station</th>\n",
       "      <th>end_station</th>\n",
       "      <th>hour</th>\n",
       "      <th>day_of_week</th>\n",
       "      <th>year</th>\n",
       "      <th>month</th>\n",
       "    </tr>\n",
       "  </thead>\n",
       "  <tbody>\n",
       "    <tr>\n",
       "      <th>0</th>\n",
       "      <td>101750280</td>\n",
       "      <td>35</td>\n",
       "      <td>06530</td>\n",
       "      <td>1.0</td>\n",
       "      <td>Round Trip</td>\n",
       "      <td>Walk-up</td>\n",
       "      <td>4127</td>\n",
       "      <td>4127</td>\n",
       "      <td>11</td>\n",
       "      <td>7</td>\n",
       "      <td>2018</td>\n",
       "      <td>8</td>\n",
       "    </tr>\n",
       "    <tr>\n",
       "      <th>1</th>\n",
       "      <td>46560345</td>\n",
       "      <td>32</td>\n",
       "      <td>6683</td>\n",
       "      <td>0.0</td>\n",
       "      <td>One Way</td>\n",
       "      <td>Walk-up</td>\n",
       "      <td>3057</td>\n",
       "      <td>3062</td>\n",
       "      <td>17</td>\n",
       "      <td>17</td>\n",
       "      <td>2017</td>\n",
       "      <td>9</td>\n",
       "    </tr>\n",
       "    <tr>\n",
       "      <th>2</th>\n",
       "      <td>120016336</td>\n",
       "      <td>6</td>\n",
       "      <td>06710</td>\n",
       "      <td>30.0</td>\n",
       "      <td>One Way</td>\n",
       "      <td>Monthly Pass</td>\n",
       "      <td>3022</td>\n",
       "      <td>3062</td>\n",
       "      <td>9</td>\n",
       "      <td>22</td>\n",
       "      <td>2019</td>\n",
       "      <td>4</td>\n",
       "    </tr>\n",
       "    <tr>\n",
       "      <th>3</th>\n",
       "      <td>129547190</td>\n",
       "      <td>138</td>\n",
       "      <td>17068</td>\n",
       "      <td>1.0</td>\n",
       "      <td>One Way</td>\n",
       "      <td>One Day Pass</td>\n",
       "      <td>4304</td>\n",
       "      <td>4311</td>\n",
       "      <td>11</td>\n",
       "      <td>22</td>\n",
       "      <td>2019</td>\n",
       "      <td>9</td>\n",
       "    </tr>\n",
       "    <tr>\n",
       "      <th>4</th>\n",
       "      <td>136619463</td>\n",
       "      <td>14</td>\n",
       "      <td>18841</td>\n",
       "      <td>30.0</td>\n",
       "      <td>One Way</td>\n",
       "      <td>Monthly Pass</td>\n",
       "      <td>4266</td>\n",
       "      <td>4443</td>\n",
       "      <td>17</td>\n",
       "      <td>31</td>\n",
       "      <td>2020</td>\n",
       "      <td>1</td>\n",
       "    </tr>\n",
       "  </tbody>\n",
       "</table>\n",
       "</div>"
      ],
      "text/plain": [
       "     trip_id  duration bike_id  plan_duration trip_route_category  \\\n",
       "0  101750280        35   06530            1.0          Round Trip   \n",
       "1   46560345        32    6683            0.0             One Way   \n",
       "2  120016336         6   06710           30.0             One Way   \n",
       "3  129547190       138   17068            1.0             One Way   \n",
       "4  136619463        14   18841           30.0             One Way   \n",
       "\n",
       "  passholder_type  start_station  end_station  hour  day_of_week  year  month  \n",
       "0         Walk-up           4127         4127    11            7  2018      8  \n",
       "1         Walk-up           3057         3062    17           17  2017      9  \n",
       "2    Monthly Pass           3022         3062     9           22  2019      4  \n",
       "3    One Day Pass           4304         4311    11           22  2019      9  \n",
       "4    Monthly Pass           4266         4443    17           31  2020      1  "
      ]
     },
     "metadata": {},
     "output_type": "display_data"
    },
    {
     "name": "stdout",
     "output_type": "stream",
     "text": [
      "<class 'pandas.core.frame.DataFrame'>\n",
      "Int64Index: 699922 entries, 0 to 699999\n",
      "Data columns (total 12 columns):\n",
      " #   Column               Non-Null Count   Dtype  \n",
      "---  ------               --------------   -----  \n",
      " 0   trip_id              699922 non-null  int64  \n",
      " 1   duration             699922 non-null  int64  \n",
      " 2   bike_id              699922 non-null  object \n",
      " 3   plan_duration        699922 non-null  float64\n",
      " 4   trip_route_category  699922 non-null  object \n",
      " 5   passholder_type      699922 non-null  object \n",
      " 6   start_station        699922 non-null  int64  \n",
      " 7   end_station          699922 non-null  int64  \n",
      " 8   hour                 699922 non-null  int64  \n",
      " 9   day_of_week          699922 non-null  int64  \n",
      " 10  year                 699922 non-null  int64  \n",
      " 11  month                699922 non-null  int64  \n",
      "dtypes: float64(1), int64(8), object(3)\n",
      "memory usage: 69.4+ MB\n"
     ]
    },
    {
     "data": {
      "text/plain": [
       "None"
      ]
     },
     "metadata": {},
     "output_type": "display_data"
    }
   ],
   "source": [
    "display(df_train.head())\n",
    "display(df_train.info())"
   ]
  },
  {
   "cell_type": "code",
   "execution_count": 44,
   "id": "61053b33",
   "metadata": {},
   "outputs": [
    {
     "data": {
      "text/html": [
       "<div>\n",
       "<style scoped>\n",
       "    .dataframe tbody tr th:only-of-type {\n",
       "        vertical-align: middle;\n",
       "    }\n",
       "\n",
       "    .dataframe tbody tr th {\n",
       "        vertical-align: top;\n",
       "    }\n",
       "\n",
       "    .dataframe thead th {\n",
       "        text-align: right;\n",
       "    }\n",
       "</style>\n",
       "<table border=\"1\" class=\"dataframe\">\n",
       "  <thead>\n",
       "    <tr style=\"text-align: right;\">\n",
       "      <th></th>\n",
       "      <th>trip_id</th>\n",
       "      <th>duration</th>\n",
       "      <th>bike_id</th>\n",
       "      <th>trip_route_category</th>\n",
       "      <th>start_station</th>\n",
       "      <th>end_station</th>\n",
       "      <th>hour</th>\n",
       "      <th>day_of_week</th>\n",
       "      <th>year</th>\n",
       "      <th>month</th>\n",
       "    </tr>\n",
       "  </thead>\n",
       "  <tbody>\n",
       "    <tr>\n",
       "      <th>0</th>\n",
       "      <td>17059130</td>\n",
       "      <td>12</td>\n",
       "      <td>6351</td>\n",
       "      <td>Round Trip</td>\n",
       "      <td>3028</td>\n",
       "      <td>3028</td>\n",
       "      <td>0</td>\n",
       "      <td>1</td>\n",
       "      <td>2017</td>\n",
       "      <td>1</td>\n",
       "    </tr>\n",
       "    <tr>\n",
       "      <th>1</th>\n",
       "      <td>17059129</td>\n",
       "      <td>17</td>\n",
       "      <td>5836</td>\n",
       "      <td>One Way</td>\n",
       "      <td>3027</td>\n",
       "      <td>3018</td>\n",
       "      <td>0</td>\n",
       "      <td>1</td>\n",
       "      <td>2017</td>\n",
       "      <td>1</td>\n",
       "    </tr>\n",
       "    <tr>\n",
       "      <th>2</th>\n",
       "      <td>17059126</td>\n",
       "      <td>20</td>\n",
       "      <td>6529</td>\n",
       "      <td>One Way</td>\n",
       "      <td>3066</td>\n",
       "      <td>3055</td>\n",
       "      <td>0</td>\n",
       "      <td>1</td>\n",
       "      <td>2017</td>\n",
       "      <td>1</td>\n",
       "    </tr>\n",
       "    <tr>\n",
       "      <th>3</th>\n",
       "      <td>17059125</td>\n",
       "      <td>12</td>\n",
       "      <td>6029</td>\n",
       "      <td>One Way</td>\n",
       "      <td>3029</td>\n",
       "      <td>3079</td>\n",
       "      <td>0</td>\n",
       "      <td>1</td>\n",
       "      <td>2017</td>\n",
       "      <td>1</td>\n",
       "    </tr>\n",
       "    <tr>\n",
       "      <th>4</th>\n",
       "      <td>17061379</td>\n",
       "      <td>48</td>\n",
       "      <td>6680</td>\n",
       "      <td>Round Trip</td>\n",
       "      <td>3063</td>\n",
       "      <td>3063</td>\n",
       "      <td>0</td>\n",
       "      <td>1</td>\n",
       "      <td>2017</td>\n",
       "      <td>1</td>\n",
       "    </tr>\n",
       "  </tbody>\n",
       "</table>\n",
       "</div>"
      ],
      "text/plain": [
       "    trip_id  duration bike_id trip_route_category  start_station  end_station  \\\n",
       "0  17059130        12    6351          Round Trip           3028         3028   \n",
       "1  17059129        17    5836             One Way           3027         3018   \n",
       "2  17059126        20    6529             One Way           3066         3055   \n",
       "3  17059125        12    6029             One Way           3029         3079   \n",
       "4  17061379        48    6680          Round Trip           3063         3063   \n",
       "\n",
       "   hour  day_of_week  year  month  \n",
       "0     0            1  2017      1  \n",
       "1     0            1  2017      1  \n",
       "2     0            1  2017      1  \n",
       "3     0            1  2017      1  \n",
       "4     0            1  2017      1  "
      ]
     },
     "metadata": {},
     "output_type": "display_data"
    },
    {
     "name": "stdout",
     "output_type": "stream",
     "text": [
      "<class 'pandas.core.frame.DataFrame'>\n",
      "RangeIndex: 569886 entries, 0 to 569885\n",
      "Data columns (total 10 columns):\n",
      " #   Column               Non-Null Count   Dtype \n",
      "---  ------               --------------   ----- \n",
      " 0   trip_id              569886 non-null  int64 \n",
      " 1   duration             569886 non-null  int64 \n",
      " 2   bike_id              569886 non-null  object\n",
      " 3   trip_route_category  569886 non-null  object\n",
      " 4   start_station        569886 non-null  int64 \n",
      " 5   end_station          569886 non-null  int64 \n",
      " 6   hour                 569886 non-null  int64 \n",
      " 7   day_of_week          569886 non-null  int64 \n",
      " 8   year                 569886 non-null  int64 \n",
      " 9   month                569886 non-null  int64 \n",
      "dtypes: int64(8), object(2)\n",
      "memory usage: 43.5+ MB\n"
     ]
    },
    {
     "data": {
      "text/plain": [
       "None"
      ]
     },
     "metadata": {},
     "output_type": "display_data"
    }
   ],
   "source": [
    "display(df_test.head())\n",
    "display(df_test.info())"
   ]
  },
  {
   "cell_type": "markdown",
   "id": "233d730e",
   "metadata": {},
   "source": [
    "Se hace un match de las caracteristicas del conjunto de test y de train, y se desglosa start_time en hora, dia, mes y año, ademas se usa el metodo OHE para convertir trip_route_category de categorica a binaria."
   ]
  },
  {
   "cell_type": "code",
   "execution_count": 45,
   "id": "c4bc8747",
   "metadata": {},
   "outputs": [],
   "source": [
    "#Codifico numericamente passholder_type\n",
    "le = LabelEncoder()\n",
    "df_train['passholder_type'] = le.fit_transform(df_train['passholder_type'])\n"
   ]
  },
  {
   "cell_type": "code",
   "execution_count": 46,
   "id": "b45f39b1",
   "metadata": {},
   "outputs": [],
   "source": [
    "# One-Hot Encoding de las columnas categóricas\n",
    "df_train = pd.get_dummies(df_train, columns=['trip_route_category', 'start_station', 'end_station'])"
   ]
  },
  {
   "cell_type": "code",
   "execution_count": 47,
   "id": "26fd3e13",
   "metadata": {},
   "outputs": [],
   "source": [
    "df_train = df_train.drop([\"bike_id\"], axis = 1)\n",
    "df_test = df_test.drop([\"bike_id\"], axis = 1)"
   ]
  },
  {
   "cell_type": "markdown",
   "id": "b10cc2d9",
   "metadata": {},
   "source": [
    "Se han codificado las caracteristicas y objetivos categoricos, para poderlos procesar en el modelo"
   ]
  },
  {
   "cell_type": "code",
   "execution_count": 48,
   "id": "d9de6e4e",
   "metadata": {},
   "outputs": [
    {
     "data": {
      "text/html": [
       "<div>\n",
       "<style scoped>\n",
       "    .dataframe tbody tr th:only-of-type {\n",
       "        vertical-align: middle;\n",
       "    }\n",
       "\n",
       "    .dataframe tbody tr th {\n",
       "        vertical-align: top;\n",
       "    }\n",
       "\n",
       "    .dataframe thead th {\n",
       "        text-align: right;\n",
       "    }\n",
       "</style>\n",
       "<table border=\"1\" class=\"dataframe\">\n",
       "  <thead>\n",
       "    <tr style=\"text-align: right;\">\n",
       "      <th></th>\n",
       "      <th>trip_id</th>\n",
       "      <th>duration</th>\n",
       "      <th>plan_duration</th>\n",
       "      <th>passholder_type</th>\n",
       "      <th>hour</th>\n",
       "      <th>day_of_week</th>\n",
       "      <th>year</th>\n",
       "      <th>month</th>\n",
       "      <th>trip_route_category_One Way</th>\n",
       "      <th>trip_route_category_Round Trip</th>\n",
       "      <th>...</th>\n",
       "      <th>end_station_4578</th>\n",
       "      <th>end_station_4579</th>\n",
       "      <th>end_station_4580</th>\n",
       "      <th>end_station_4581</th>\n",
       "      <th>end_station_4582</th>\n",
       "      <th>end_station_4583</th>\n",
       "      <th>end_station_4584</th>\n",
       "      <th>end_station_4587</th>\n",
       "      <th>end_station_4593</th>\n",
       "      <th>end_station_4594</th>\n",
       "    </tr>\n",
       "  </thead>\n",
       "  <tbody>\n",
       "    <tr>\n",
       "      <th>0</th>\n",
       "      <td>101750280</td>\n",
       "      <td>35</td>\n",
       "      <td>1.0</td>\n",
       "      <td>4</td>\n",
       "      <td>11</td>\n",
       "      <td>7</td>\n",
       "      <td>2018</td>\n",
       "      <td>8</td>\n",
       "      <td>0</td>\n",
       "      <td>1</td>\n",
       "      <td>...</td>\n",
       "      <td>0</td>\n",
       "      <td>0</td>\n",
       "      <td>0</td>\n",
       "      <td>0</td>\n",
       "      <td>0</td>\n",
       "      <td>0</td>\n",
       "      <td>0</td>\n",
       "      <td>0</td>\n",
       "      <td>0</td>\n",
       "      <td>0</td>\n",
       "    </tr>\n",
       "    <tr>\n",
       "      <th>1</th>\n",
       "      <td>46560345</td>\n",
       "      <td>32</td>\n",
       "      <td>0.0</td>\n",
       "      <td>4</td>\n",
       "      <td>17</td>\n",
       "      <td>17</td>\n",
       "      <td>2017</td>\n",
       "      <td>9</td>\n",
       "      <td>1</td>\n",
       "      <td>0</td>\n",
       "      <td>...</td>\n",
       "      <td>0</td>\n",
       "      <td>0</td>\n",
       "      <td>0</td>\n",
       "      <td>0</td>\n",
       "      <td>0</td>\n",
       "      <td>0</td>\n",
       "      <td>0</td>\n",
       "      <td>0</td>\n",
       "      <td>0</td>\n",
       "      <td>0</td>\n",
       "    </tr>\n",
       "    <tr>\n",
       "      <th>2</th>\n",
       "      <td>120016336</td>\n",
       "      <td>6</td>\n",
       "      <td>30.0</td>\n",
       "      <td>2</td>\n",
       "      <td>9</td>\n",
       "      <td>22</td>\n",
       "      <td>2019</td>\n",
       "      <td>4</td>\n",
       "      <td>1</td>\n",
       "      <td>0</td>\n",
       "      <td>...</td>\n",
       "      <td>0</td>\n",
       "      <td>0</td>\n",
       "      <td>0</td>\n",
       "      <td>0</td>\n",
       "      <td>0</td>\n",
       "      <td>0</td>\n",
       "      <td>0</td>\n",
       "      <td>0</td>\n",
       "      <td>0</td>\n",
       "      <td>0</td>\n",
       "    </tr>\n",
       "    <tr>\n",
       "      <th>3</th>\n",
       "      <td>129547190</td>\n",
       "      <td>138</td>\n",
       "      <td>1.0</td>\n",
       "      <td>3</td>\n",
       "      <td>11</td>\n",
       "      <td>22</td>\n",
       "      <td>2019</td>\n",
       "      <td>9</td>\n",
       "      <td>1</td>\n",
       "      <td>0</td>\n",
       "      <td>...</td>\n",
       "      <td>0</td>\n",
       "      <td>0</td>\n",
       "      <td>0</td>\n",
       "      <td>0</td>\n",
       "      <td>0</td>\n",
       "      <td>0</td>\n",
       "      <td>0</td>\n",
       "      <td>0</td>\n",
       "      <td>0</td>\n",
       "      <td>0</td>\n",
       "    </tr>\n",
       "    <tr>\n",
       "      <th>4</th>\n",
       "      <td>136619463</td>\n",
       "      <td>14</td>\n",
       "      <td>30.0</td>\n",
       "      <td>2</td>\n",
       "      <td>17</td>\n",
       "      <td>31</td>\n",
       "      <td>2020</td>\n",
       "      <td>1</td>\n",
       "      <td>1</td>\n",
       "      <td>0</td>\n",
       "      <td>...</td>\n",
       "      <td>0</td>\n",
       "      <td>0</td>\n",
       "      <td>0</td>\n",
       "      <td>0</td>\n",
       "      <td>0</td>\n",
       "      <td>0</td>\n",
       "      <td>0</td>\n",
       "      <td>0</td>\n",
       "      <td>0</td>\n",
       "      <td>0</td>\n",
       "    </tr>\n",
       "    <tr>\n",
       "      <th>...</th>\n",
       "      <td>...</td>\n",
       "      <td>...</td>\n",
       "      <td>...</td>\n",
       "      <td>...</td>\n",
       "      <td>...</td>\n",
       "      <td>...</td>\n",
       "      <td>...</td>\n",
       "      <td>...</td>\n",
       "      <td>...</td>\n",
       "      <td>...</td>\n",
       "      <td>...</td>\n",
       "      <td>...</td>\n",
       "      <td>...</td>\n",
       "      <td>...</td>\n",
       "      <td>...</td>\n",
       "      <td>...</td>\n",
       "      <td>...</td>\n",
       "      <td>...</td>\n",
       "      <td>...</td>\n",
       "      <td>...</td>\n",
       "      <td>...</td>\n",
       "    </tr>\n",
       "    <tr>\n",
       "      <th>699995</th>\n",
       "      <td>83666862</td>\n",
       "      <td>17</td>\n",
       "      <td>30.0</td>\n",
       "      <td>2</td>\n",
       "      <td>18</td>\n",
       "      <td>25</td>\n",
       "      <td>2018</td>\n",
       "      <td>4</td>\n",
       "      <td>1</td>\n",
       "      <td>0</td>\n",
       "      <td>...</td>\n",
       "      <td>0</td>\n",
       "      <td>0</td>\n",
       "      <td>0</td>\n",
       "      <td>0</td>\n",
       "      <td>0</td>\n",
       "      <td>0</td>\n",
       "      <td>0</td>\n",
       "      <td>0</td>\n",
       "      <td>0</td>\n",
       "      <td>0</td>\n",
       "    </tr>\n",
       "    <tr>\n",
       "      <th>699996</th>\n",
       "      <td>132547303</td>\n",
       "      <td>9</td>\n",
       "      <td>30.0</td>\n",
       "      <td>2</td>\n",
       "      <td>16</td>\n",
       "      <td>12</td>\n",
       "      <td>2019</td>\n",
       "      <td>11</td>\n",
       "      <td>1</td>\n",
       "      <td>0</td>\n",
       "      <td>...</td>\n",
       "      <td>0</td>\n",
       "      <td>0</td>\n",
       "      <td>0</td>\n",
       "      <td>0</td>\n",
       "      <td>0</td>\n",
       "      <td>0</td>\n",
       "      <td>0</td>\n",
       "      <td>0</td>\n",
       "      <td>0</td>\n",
       "      <td>0</td>\n",
       "    </tr>\n",
       "    <tr>\n",
       "      <th>699997</th>\n",
       "      <td>67332628</td>\n",
       "      <td>6</td>\n",
       "      <td>365.0</td>\n",
       "      <td>1</td>\n",
       "      <td>15</td>\n",
       "      <td>13</td>\n",
       "      <td>2018</td>\n",
       "      <td>1</td>\n",
       "      <td>1</td>\n",
       "      <td>0</td>\n",
       "      <td>...</td>\n",
       "      <td>0</td>\n",
       "      <td>0</td>\n",
       "      <td>0</td>\n",
       "      <td>0</td>\n",
       "      <td>0</td>\n",
       "      <td>0</td>\n",
       "      <td>0</td>\n",
       "      <td>0</td>\n",
       "      <td>0</td>\n",
       "      <td>0</td>\n",
       "    </tr>\n",
       "    <tr>\n",
       "      <th>699998</th>\n",
       "      <td>114846232</td>\n",
       "      <td>3</td>\n",
       "      <td>1.0</td>\n",
       "      <td>4</td>\n",
       "      <td>14</td>\n",
       "      <td>4</td>\n",
       "      <td>2019</td>\n",
       "      <td>2</td>\n",
       "      <td>1</td>\n",
       "      <td>0</td>\n",
       "      <td>...</td>\n",
       "      <td>0</td>\n",
       "      <td>0</td>\n",
       "      <td>0</td>\n",
       "      <td>0</td>\n",
       "      <td>0</td>\n",
       "      <td>0</td>\n",
       "      <td>0</td>\n",
       "      <td>0</td>\n",
       "      <td>0</td>\n",
       "      <td>0</td>\n",
       "    </tr>\n",
       "    <tr>\n",
       "      <th>699999</th>\n",
       "      <td>167744702</td>\n",
       "      <td>59</td>\n",
       "      <td>1.0</td>\n",
       "      <td>4</td>\n",
       "      <td>20</td>\n",
       "      <td>1</td>\n",
       "      <td>2021</td>\n",
       "      <td>8</td>\n",
       "      <td>1</td>\n",
       "      <td>0</td>\n",
       "      <td>...</td>\n",
       "      <td>0</td>\n",
       "      <td>0</td>\n",
       "      <td>0</td>\n",
       "      <td>0</td>\n",
       "      <td>0</td>\n",
       "      <td>0</td>\n",
       "      <td>0</td>\n",
       "      <td>0</td>\n",
       "      <td>0</td>\n",
       "      <td>0</td>\n",
       "    </tr>\n",
       "  </tbody>\n",
       "</table>\n",
       "<p>699922 rows × 743 columns</p>\n",
       "</div>"
      ],
      "text/plain": [
       "          trip_id  duration  plan_duration  passholder_type  hour  \\\n",
       "0       101750280        35            1.0                4    11   \n",
       "1        46560345        32            0.0                4    17   \n",
       "2       120016336         6           30.0                2     9   \n",
       "3       129547190       138            1.0                3    11   \n",
       "4       136619463        14           30.0                2    17   \n",
       "...           ...       ...            ...              ...   ...   \n",
       "699995   83666862        17           30.0                2    18   \n",
       "699996  132547303         9           30.0                2    16   \n",
       "699997   67332628         6          365.0                1    15   \n",
       "699998  114846232         3            1.0                4    14   \n",
       "699999  167744702        59            1.0                4    20   \n",
       "\n",
       "        day_of_week  year  month  trip_route_category_One Way  \\\n",
       "0                 7  2018      8                            0   \n",
       "1                17  2017      9                            1   \n",
       "2                22  2019      4                            1   \n",
       "3                22  2019      9                            1   \n",
       "4                31  2020      1                            1   \n",
       "...             ...   ...    ...                          ...   \n",
       "699995           25  2018      4                            1   \n",
       "699996           12  2019     11                            1   \n",
       "699997           13  2018      1                            1   \n",
       "699998            4  2019      2                            1   \n",
       "699999            1  2021      8                            1   \n",
       "\n",
       "        trip_route_category_Round Trip  ...  end_station_4578  \\\n",
       "0                                    1  ...                 0   \n",
       "1                                    0  ...                 0   \n",
       "2                                    0  ...                 0   \n",
       "3                                    0  ...                 0   \n",
       "4                                    0  ...                 0   \n",
       "...                                ...  ...               ...   \n",
       "699995                               0  ...                 0   \n",
       "699996                               0  ...                 0   \n",
       "699997                               0  ...                 0   \n",
       "699998                               0  ...                 0   \n",
       "699999                               0  ...                 0   \n",
       "\n",
       "        end_station_4579  end_station_4580  end_station_4581  \\\n",
       "0                      0                 0                 0   \n",
       "1                      0                 0                 0   \n",
       "2                      0                 0                 0   \n",
       "3                      0                 0                 0   \n",
       "4                      0                 0                 0   \n",
       "...                  ...               ...               ...   \n",
       "699995                 0                 0                 0   \n",
       "699996                 0                 0                 0   \n",
       "699997                 0                 0                 0   \n",
       "699998                 0                 0                 0   \n",
       "699999                 0                 0                 0   \n",
       "\n",
       "        end_station_4582  end_station_4583  end_station_4584  \\\n",
       "0                      0                 0                 0   \n",
       "1                      0                 0                 0   \n",
       "2                      0                 0                 0   \n",
       "3                      0                 0                 0   \n",
       "4                      0                 0                 0   \n",
       "...                  ...               ...               ...   \n",
       "699995                 0                 0                 0   \n",
       "699996                 0                 0                 0   \n",
       "699997                 0                 0                 0   \n",
       "699998                 0                 0                 0   \n",
       "699999                 0                 0                 0   \n",
       "\n",
       "        end_station_4587  end_station_4593  end_station_4594  \n",
       "0                      0                 0                 0  \n",
       "1                      0                 0                 0  \n",
       "2                      0                 0                 0  \n",
       "3                      0                 0                 0  \n",
       "4                      0                 0                 0  \n",
       "...                  ...               ...               ...  \n",
       "699995                 0                 0                 0  \n",
       "699996                 0                 0                 0  \n",
       "699997                 0                 0                 0  \n",
       "699998                 0                 0                 0  \n",
       "699999                 0                 0                 0  \n",
       "\n",
       "[699922 rows x 743 columns]"
      ]
     },
     "metadata": {},
     "output_type": "display_data"
    }
   ],
   "source": [
    "display(df_train)"
   ]
  },
  {
   "cell_type": "code",
   "execution_count": 49,
   "id": "e9432a94",
   "metadata": {},
   "outputs": [],
   "source": [
    "X_train = df_train.drop(columns=['passholder_type', 'trip_id']) \n",
    "y_train = df_train['passholder_type'] "
   ]
  },
  {
   "cell_type": "code",
   "execution_count": 50,
   "id": "db41803a",
   "metadata": {},
   "outputs": [],
   "source": [
    "# Dividir el conjunto de entrenamiento en entrenamiento y validación\n",
    "X_train_split, X_val_split, y_train_split, y_val_split = train_test_split(X_train, y_train, test_size=0.2, random_state=42)\n"
   ]
  },
  {
   "cell_type": "code",
   "execution_count": 51,
   "id": "f6d5e29d",
   "metadata": {},
   "outputs": [
    {
     "name": "stdout",
     "output_type": "stream",
     "text": [
      "duration              int64\n",
      "plan_duration       float64\n",
      "hour                  int64\n",
      "day_of_week           int64\n",
      "year                  int64\n",
      "                     ...   \n",
      "end_station_4583      uint8\n",
      "end_station_4584      uint8\n",
      "end_station_4587      uint8\n",
      "end_station_4593      uint8\n",
      "end_station_4594      uint8\n",
      "Length: 741, dtype: object\n",
      "duration              int64\n",
      "plan_duration       float64\n",
      "hour                  int64\n",
      "day_of_week           int64\n",
      "year                  int64\n",
      "                     ...   \n",
      "end_station_4583      uint8\n",
      "end_station_4584      uint8\n",
      "end_station_4587      uint8\n",
      "end_station_4593      uint8\n",
      "end_station_4594      uint8\n",
      "Length: 741, dtype: object\n",
      "int32\n",
      "int32\n"
     ]
    }
   ],
   "source": [
    "print(X_train_split.dtypes)\n",
    "print(X_val_split.dtypes)\n",
    "print(y_train_split.dtypes)\n",
    "print(y_val_split.dtypes)"
   ]
  },
  {
   "cell_type": "raw",
   "id": "b3b77ca8",
   "metadata": {},
   "source": [
    "best_error = 10000\n",
    "best_est = 0\n",
    "best_depth = 0\n",
    "for est in range(10, 51, 10):\n",
    "    for depth in range (1, 11):\n",
    "        # inicializa el constructor de modelos con los parámetros random_state=12345, n_estimators=est y max_depth=depth\n",
    "        model = RandomForestClassifier(random_state=12345, n_estimators=est, max_depth=depth)\n",
    "        # entrena el modelo en el conjunto de entrenamiento con el junto de Desicion Tree que ya tiene encoder\n",
    "        model.fit(X_train_split, y_train_split)\n",
    "        # obtiene las predicciones del modelo en el conjunto de validación\n",
    "        rf_predictions_valid = model.predict(X_val_split)\n",
    "        # calcula la RECM en el conjunto de validación\n",
    "        error = mean_squared_error(y_val_split, rf_predictions_valid)**0.5\n",
    "        print(\"Validación RECM para los n_estimators de\", est, \", depth=\", depth, \"is\", error)\n",
    "        if error < best_error: # guardamos la configuración del modelo si se logra el error más bajo\n",
    "            best_error = error\n",
    "            best_est = est\n",
    "            best_depth = depth\n",
    "\n",
    "print(\"RECM del mejor modelo en el conjunto de validación para Random Forest es:\", best_error, \"n_estimators:\", best_est, \"best_depth:\", best_depth)"
   ]
  },
  {
   "cell_type": "code",
   "execution_count": 52,
   "id": "7fda1ff8",
   "metadata": {},
   "outputs": [
    {
     "name": "stdout",
     "output_type": "stream",
     "text": [
      "              precision    recall  f1-score   support\n",
      "\n",
      "           0       0.83      0.96      0.89      6816\n",
      "           1       0.81      0.98      0.89      2330\n",
      "           2       0.87      0.91      0.89     79739\n",
      "           3       0.24      0.69      0.36      8871\n",
      "           4       0.84      0.40      0.54     42229\n",
      "\n",
      "    accuracy                           0.75    139985\n",
      "   macro avg       0.72      0.79      0.71    139985\n",
      "weighted avg       0.82      0.75      0.75    139985\n",
      "\n"
     ]
    }
   ],
   "source": [
    "# Inicializar el modelo Random Forest\n",
    "rf = RandomForestClassifier(class_weight= \"balanced\",random_state=12345,n_estimators = 40, max_depth = 8)\n",
    "\n",
    "# Entrenar el modelo\n",
    "rf.fit(X_train_split, y_train_split)\n",
    "\n",
    "# Predecir sobre el conjunto de validación\n",
    "y_pred = rf.predict(X_val_split)\n",
    "\n",
    "# Evaluar el modelo\n",
    "print(classification_report(y_val_split, y_pred))"
   ]
  },
  {
   "cell_type": "markdown",
   "id": "8cddc2fc",
   "metadata": {},
   "source": [
    "Se eligio el modelo de RandomForest y se analizo cuales son los mejores hiperparametros resultando en un n_est = 40 y profundidad de 8\n",
    "Se corrio el classification report para ver la precision y exactitud del modelo.\n",
    "\n",
    "__Para la clase__ \n",
    "* 0 Annual Pass : El modelo tiene un muy buen balance entre precision y recall de 0.89\n",
    "* 1 Flex Pass : El modelo tiene un muy buen balance entre precision y recall de 0.89\n",
    "* 2 Monthly Pass : El modelo tiene un muy buen balance entre precision y recall de 0.89\n",
    "* 3 One Day Pass: El modelo tiene un  balance entre precision y recall de 0.36\n",
    "* 4 Walk-up : El modelo tiene un  balance entre precision y recall de 0.54\n",
    "\n",
    "Se puede notar que para el Annual Pass, Flex Pass y Monthly Pass tiene mejor balance en su precision y recall, que el One Day y el Walk-Up que le cuesta mas tranajo al modelo predecirlos."
   ]
  },
  {
   "cell_type": "code",
   "execution_count": 53,
   "id": "e2a6194e",
   "metadata": {},
   "outputs": [],
   "source": [
    "df_test = pd.get_dummies(df_test, columns=['trip_route_category', 'start_station', 'end_station'])\n",
    "X_test = df_test.drop(columns=['trip_id'])\n",
    "X_test = X_test.reindex(columns=X_train.columns, fill_value=0)"
   ]
  },
  {
   "cell_type": "code",
   "execution_count": 54,
   "id": "3365a8ff",
   "metadata": {},
   "outputs": [
    {
     "data": {
      "text/html": [
       "<div>\n",
       "<style scoped>\n",
       "    .dataframe tbody tr th:only-of-type {\n",
       "        vertical-align: middle;\n",
       "    }\n",
       "\n",
       "    .dataframe tbody tr th {\n",
       "        vertical-align: top;\n",
       "    }\n",
       "\n",
       "    .dataframe thead th {\n",
       "        text-align: right;\n",
       "    }\n",
       "</style>\n",
       "<table border=\"1\" class=\"dataframe\">\n",
       "  <thead>\n",
       "    <tr style=\"text-align: right;\">\n",
       "      <th></th>\n",
       "      <th>trip_id</th>\n",
       "      <th>duration</th>\n",
       "      <th>hour</th>\n",
       "      <th>day_of_week</th>\n",
       "      <th>year</th>\n",
       "      <th>month</th>\n",
       "      <th>trip_route_category_One Way</th>\n",
       "      <th>trip_route_category_Round Trip</th>\n",
       "      <th>start_station_3000</th>\n",
       "      <th>start_station_3005</th>\n",
       "      <th>...</th>\n",
       "      <th>end_station_4580</th>\n",
       "      <th>end_station_4581</th>\n",
       "      <th>end_station_4582</th>\n",
       "      <th>end_station_4583</th>\n",
       "      <th>end_station_4584</th>\n",
       "      <th>end_station_4587</th>\n",
       "      <th>end_station_4592</th>\n",
       "      <th>end_station_4593</th>\n",
       "      <th>end_station_4594</th>\n",
       "      <th>passholder_type</th>\n",
       "    </tr>\n",
       "  </thead>\n",
       "  <tbody>\n",
       "    <tr>\n",
       "      <th>0</th>\n",
       "      <td>17059130</td>\n",
       "      <td>12</td>\n",
       "      <td>0</td>\n",
       "      <td>1</td>\n",
       "      <td>2017</td>\n",
       "      <td>1</td>\n",
       "      <td>0</td>\n",
       "      <td>1</td>\n",
       "      <td>0</td>\n",
       "      <td>0</td>\n",
       "      <td>...</td>\n",
       "      <td>0</td>\n",
       "      <td>0</td>\n",
       "      <td>0</td>\n",
       "      <td>0</td>\n",
       "      <td>0</td>\n",
       "      <td>0</td>\n",
       "      <td>0</td>\n",
       "      <td>0</td>\n",
       "      <td>0</td>\n",
       "      <td>Walk-up</td>\n",
       "    </tr>\n",
       "    <tr>\n",
       "      <th>1</th>\n",
       "      <td>17059129</td>\n",
       "      <td>17</td>\n",
       "      <td>0</td>\n",
       "      <td>1</td>\n",
       "      <td>2017</td>\n",
       "      <td>1</td>\n",
       "      <td>1</td>\n",
       "      <td>0</td>\n",
       "      <td>0</td>\n",
       "      <td>0</td>\n",
       "      <td>...</td>\n",
       "      <td>0</td>\n",
       "      <td>0</td>\n",
       "      <td>0</td>\n",
       "      <td>0</td>\n",
       "      <td>0</td>\n",
       "      <td>0</td>\n",
       "      <td>0</td>\n",
       "      <td>0</td>\n",
       "      <td>0</td>\n",
       "      <td>Monthly Pass</td>\n",
       "    </tr>\n",
       "    <tr>\n",
       "      <th>2</th>\n",
       "      <td>17059126</td>\n",
       "      <td>20</td>\n",
       "      <td>0</td>\n",
       "      <td>1</td>\n",
       "      <td>2017</td>\n",
       "      <td>1</td>\n",
       "      <td>1</td>\n",
       "      <td>0</td>\n",
       "      <td>0</td>\n",
       "      <td>0</td>\n",
       "      <td>...</td>\n",
       "      <td>0</td>\n",
       "      <td>0</td>\n",
       "      <td>0</td>\n",
       "      <td>0</td>\n",
       "      <td>0</td>\n",
       "      <td>0</td>\n",
       "      <td>0</td>\n",
       "      <td>0</td>\n",
       "      <td>0</td>\n",
       "      <td>Monthly Pass</td>\n",
       "    </tr>\n",
       "    <tr>\n",
       "      <th>3</th>\n",
       "      <td>17059125</td>\n",
       "      <td>12</td>\n",
       "      <td>0</td>\n",
       "      <td>1</td>\n",
       "      <td>2017</td>\n",
       "      <td>1</td>\n",
       "      <td>1</td>\n",
       "      <td>0</td>\n",
       "      <td>0</td>\n",
       "      <td>0</td>\n",
       "      <td>...</td>\n",
       "      <td>0</td>\n",
       "      <td>0</td>\n",
       "      <td>0</td>\n",
       "      <td>0</td>\n",
       "      <td>0</td>\n",
       "      <td>0</td>\n",
       "      <td>0</td>\n",
       "      <td>0</td>\n",
       "      <td>0</td>\n",
       "      <td>Monthly Pass</td>\n",
       "    </tr>\n",
       "    <tr>\n",
       "      <th>4</th>\n",
       "      <td>17061379</td>\n",
       "      <td>48</td>\n",
       "      <td>0</td>\n",
       "      <td>1</td>\n",
       "      <td>2017</td>\n",
       "      <td>1</td>\n",
       "      <td>0</td>\n",
       "      <td>1</td>\n",
       "      <td>0</td>\n",
       "      <td>0</td>\n",
       "      <td>...</td>\n",
       "      <td>0</td>\n",
       "      <td>0</td>\n",
       "      <td>0</td>\n",
       "      <td>0</td>\n",
       "      <td>0</td>\n",
       "      <td>0</td>\n",
       "      <td>0</td>\n",
       "      <td>0</td>\n",
       "      <td>0</td>\n",
       "      <td>Walk-up</td>\n",
       "    </tr>\n",
       "  </tbody>\n",
       "</table>\n",
       "<p>5 rows × 740 columns</p>\n",
       "</div>"
      ],
      "text/plain": [
       "    trip_id  duration  hour  day_of_week  year  month  \\\n",
       "0  17059130        12     0            1  2017      1   \n",
       "1  17059129        17     0            1  2017      1   \n",
       "2  17059126        20     0            1  2017      1   \n",
       "3  17059125        12     0            1  2017      1   \n",
       "4  17061379        48     0            1  2017      1   \n",
       "\n",
       "   trip_route_category_One Way  trip_route_category_Round Trip  \\\n",
       "0                            0                               1   \n",
       "1                            1                               0   \n",
       "2                            1                               0   \n",
       "3                            1                               0   \n",
       "4                            0                               1   \n",
       "\n",
       "   start_station_3000  start_station_3005  ...  end_station_4580  \\\n",
       "0                   0                   0  ...                 0   \n",
       "1                   0                   0  ...                 0   \n",
       "2                   0                   0  ...                 0   \n",
       "3                   0                   0  ...                 0   \n",
       "4                   0                   0  ...                 0   \n",
       "\n",
       "   end_station_4581  end_station_4582  end_station_4583  end_station_4584  \\\n",
       "0                 0                 0                 0                 0   \n",
       "1                 0                 0                 0                 0   \n",
       "2                 0                 0                 0                 0   \n",
       "3                 0                 0                 0                 0   \n",
       "4                 0                 0                 0                 0   \n",
       "\n",
       "   end_station_4587  end_station_4592  end_station_4593  end_station_4594  \\\n",
       "0                 0                 0                 0                 0   \n",
       "1                 0                 0                 0                 0   \n",
       "2                 0                 0                 0                 0   \n",
       "3                 0                 0                 0                 0   \n",
       "4                 0                 0                 0                 0   \n",
       "\n",
       "   passholder_type  \n",
       "0          Walk-up  \n",
       "1     Monthly Pass  \n",
       "2     Monthly Pass  \n",
       "3     Monthly Pass  \n",
       "4          Walk-up  \n",
       "\n",
       "[5 rows x 740 columns]"
      ]
     },
     "execution_count": 54,
     "metadata": {},
     "output_type": "execute_result"
    }
   ],
   "source": [
    "y_test_pred = rf.predict(X_test)\n",
    "\n",
    "y_test_pred_original = le.inverse_transform(y_test_pred)\n",
    "\n",
    "df_test['passholder_type'] = y_test_pred_original\n",
    "\n",
    "df_test.head()"
   ]
  },
  {
   "cell_type": "code",
   "execution_count": 55,
   "id": "0570921c",
   "metadata": {},
   "outputs": [],
   "source": [
    "df_test[['trip_id', 'passholder_type']].to_csv('predictions_2.csv', index=False)"
   ]
  },
  {
   "cell_type": "markdown",
   "id": "8af7ea3c",
   "metadata": {},
   "source": [
    "## Conclusion\n",
    "\n",
    "* Si se puede hacer un modelo para predecir el tipo de de pase para los trip_ids\n",
    "* Las características que pueden impactar más son el tipo de ruta junto con la estacion de inicio y finalizacion, así como las horas.\n",
    "* Debido a que la mayoría de los datos son de Monthly Pass, se encuentra un desbalance de los demas tipos de pases, por lo que se tuvo que agregar un weight_class para intentar balancearlo, pero para seguir mejorando el modelo se puede optar por otras alternativas como aumentar el sample , o intentar otro tipo de modelo como Gradient Boosting, XGBoost, o LightGBM.\n",
    "* En general mi percepción es que es un modelo un poco pobre debido a las características con las que cuenta. Yo añadiria un __user_id__, para identificar todos los viajes de ese usuario  y poder ver cuantos usuarios reales hay por pase. Además de estandarizar el plan duration  para que coincida con el passholder_type. También se podrían agregar caracteristicas de __distancia__ entre estaciones. Así como saber si la estación se encuentra cerca de zonas turisticas para mejorar la predicción de bicicletas a abastecer por estación. Por otro lado teniendo el user_id se podría identificar la __frecuencia__ de uso del usario, para ver si realmente hacen un buen uso del pase, asi como el __precio__ de cada pase, para entender el porque la mayoria prefiere un pase mensual y por último la edad del usuario , para poder correlacionar el usuario cn la frecuencia y el tipo de pase. \n",
    "* Estas características extrar ayudarían a entender mejor al tipo de usuario, su uso y poder hacer campañas de marketing para aumentar el consumo de X plan."
   ]
  },
  {
   "cell_type": "markdown",
   "id": "95a079b8",
   "metadata": {},
   "source": [
    "## Preparación de conjunto de datos para Modelos"
   ]
  },
  {
   "cell_type": "markdown",
   "id": "7e905798",
   "metadata": {},
   "source": [
    "### Modelo de Regresion Logistica"
   ]
  },
  {
   "cell_type": "markdown",
   "id": "d47eb68a",
   "metadata": {},
   "source": [
    "## Diagrama de flujo \n",
    "Diagrama de flujo de un modelo de clasificación multiclase desde el entrenamiento hasta la puesta en producción\n",
    "Recopilación de Datos\n",
    "\n",
    "__Fuente de datos:__ Bases de datos, archivos CSV, APIs, etc.\n",
    "- Extracción/Recopilación: Se recopilan los datos relevantes para el modelo, que incluyen las características necesarias para la clasificación \n",
    "\n",
    "__Preprocesamiento de Datos__\n",
    "\n",
    "- Limpiar Datos: Manejo de valores faltantes, corrección de datos inconsistentes.\n",
    "- Transformaciones: Escalado de características, conversión de variables categóricas a variables numéricas, normalización, etc.\n",
    "- División de Datos: Separar los datos en conjuntos de entrenamiento, validación y prueba.\n",
    "\n",
    "__Entrenamiento del Modelo__\n",
    "\n",
    "- Selección del Algoritmo: Selección del modelo de clasificación \n",
    "- Entrenamiento: Ajustar el modelo con los hiperparametros adecuados\n",
    "- Evaluación del Modelo: Evaluar el rendimiento utilizando métricas adecuadas (precisión, recall, F1, matriz de confusión, etc.) en el conjunto de validación.\n",
    "\n",
    "__Evaluación Final__\n",
    "\n",
    "- Prueba: Evaluar el modelo final en el conjunto de prueba para obtener una estimación de su rendimiento real.\n",
    "- Análisis de Resultados: Revisar métricas de rendimiento y determinar si el modelo está listo para producción.\n",
    "\n",
    "__Puesta en Producción__\n",
    "\n",
    "- Despliegue del Modelo:\n",
    "  Contenedorización: Empacar el modelo en un contenedor para facilitar el despliegue.\n",
    "- Despliegue en Servidor: El modelo se coloca en un servidor para que pueda hacer predicciones en tiempo real o por lotes.\n",
    "- APIs de Predicción: Se puede exponer el modelo a través de una API RESTful para interactuar con aplicaciones externas para su consumo\n",
    "- Monitorización: Implementar monitoreo del rendimiento del modelo en producción, para detectar posibles caídas de rendimiento con el tiempo.\n",
    "- Retraining: Programar un ciclo de retraining como parte de mantenimiento preventivo para evitar decrecimiento en el rendimiento debido a cambios en los datos de entrada.\n",
    "\n",
    "__Uso del Modelo en Producción__\n",
    "\n",
    "- Predicciones en Tiempo Real: El modelo se utiliza para hacer predicciones sobre los datos entrantes en tiempo real."
   ]
  },
  {
   "cell_type": "code",
   "execution_count": null,
   "id": "5796515d",
   "metadata": {},
   "outputs": [],
   "source": []
  }
 ],
 "metadata": {
  "kernelspec": {
   "display_name": "Python 3",
   "language": "python",
   "name": "python3"
  },
  "language_info": {
   "codemirror_mode": {
    "name": "ipython",
    "version": 3
   },
   "file_extension": ".py",
   "mimetype": "text/x-python",
   "name": "python",
   "nbconvert_exporter": "python",
   "pygments_lexer": "ipython3",
   "version": "3.8.8"
  }
 },
 "nbformat": 4,
 "nbformat_minor": 5
}
